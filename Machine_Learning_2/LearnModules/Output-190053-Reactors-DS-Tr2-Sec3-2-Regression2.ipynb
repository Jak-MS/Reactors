{
 "cells": [
  {
   "cell_type": "markdown",
   "metadata": {},
   "source": [
    "# Section 3.2: Linear regression, part 2\n",
    "\n",
    "Thus far in this track, we have examined building and fitting machine-learning (ML) models “locally.” True, the notebooks have been located in the cloud themselves, but the models with all of their predictive and classification power are stuck in those notebooks. To use these models, you would have to load data into your notebooks and get the results there.\n",
    "\n",
    "In practice, we want those models to be accessible from a number of locations. And while the management of production ML models has a lifecycle all its own, one part of that is making models accessible from the web. One way to do so is to develop them by using third-party cloud tools, such as [Microsoft Azure ML Studio](https://studio.azureml.net) (not to be confused with Microsoft Azure Machine Learning Service, which provides end-to-end lifecycle management for ML models).\n",
    "\n",
    "Alternatively, we can develop and deploy a function that can be accessed by other programs over the web—a web service—that runs within Azure ML Studio. Cloud-based ML-development tools like Azure ML Studio streamline the building, training, and deployment of machine-learning models by providing a drag-and-drop interface and making a wide array of ML algorithms and tools readily available. Crucially, such tools simplify the deployment and management of ML models in production (not a focus of this course, but a major consideration in the real world). Let's revisit our simple linear model from the last session, this time in Azure ML Studio.\n",
    "\n",
    "> **Learning goal:** By the end of this section, you should be comfortable building ML models in Azure ML Studio and publishing them as web services."
   ]
  },
  {
   "cell_type": "markdown",
   "metadata": {},
   "source": [
    "## Save dataset locally\n",
    "\n",
    "We can't access our dataset in Azure Notebooks directly from Azure ML Studio, so before we can use it, we will save it locally in order to upload it to Azure ML Studio.\n",
    "\n",
    "1. 1.\tGo to the browser tab with the Azure Notebooks project for this course. Click the **Data** folder.\n",
    "\n",
    "2. Click the option button next to **UN11.csv**.\n",
    "\n",
    "3. At the top of the project page, click **Download**.\n",
    "\n",
    "    <img align=\"center\" style=\"padding-right:10px;\" src=\"Images/001.png\" border=\"5\">\n",
    "\n",
    "4. Save UN11.csv to a location on your computer that you can easily remember for later access."
   ]
  },
  {
   "cell_type": "markdown",
   "metadata": {},
   "source": [
    "## Upload dataset\n",
    "\n",
    "Now we will go to Azure ML Studio and upload the UN11 dataset we used in Section 3.1.\n",
    "\n",
    "1. Open [Azure ML Studio](https://studio.azureml.net) in a new browser tab and sign in with Microsoft credentials. Azure ML Studio is free and does not require an Azure subscription. Once signed in to your Microsoft account (with the same credentials you’ve used for Azure Notebooks), you're in your “workspace.”\n",
    "\n",
    "2. In the left pane, click **DATASETS** (the database drum-cluster icon).\n",
    "\n",
    "3. In the lower-right part of the screen, click **NEW** (the plus sign icon).\n",
    "\n",
    "   <img align=\"center\" style=\"padding-right:10px;\" src=\"Images/005.png\" border=\"5\">\n",
    "\n",
    "4. In the **NEW** window, next to **DATASET**, click **FROM LOCAL FILE**.\n",
    "\n",
    "   <img align=\"center\" style=\"padding-right:10px;\" src=\"Images/010.png\" border=\"5\">\n",
    "\n",
    "5. In the **Upload a new dataset** window, in the **SELECT THE DATA TO UPLOAD** field, click **Browse**. \n",
    "   - Navigate to the location where you saved the UN11.csv file you downloaded from Azure Notebooks.\n",
    "   - Select the file and click **Open**. \n",
    "   - Leave the default entries autofilled in the **Upload a new dataset** window and click **OK** (the check mark icon in the lower-right part of the screen).\n",
    "   "
   ]
  },
  {
   "cell_type": "markdown",
   "metadata": {},
   "source": [
    "## Create a simple linear regression model\n",
    "\n",
    "1. In the left pane, click **Experiments** (the Erlenmeyer flask icon).\n",
    "\n",
    "2. In the lower-right part of the screen, click **New** (the plus sign icon).\n",
    "\n",
    "3. Under **Microsoft Samples**, click **Blank Experiment**.\n",
    "\n",
    "   <img align=\"center\" style=\"padding-right:10px;\" src=\"Images/025.png\" border=\"5\">\n",
    "\n",
    "4. At the top of the new experiment canvas, click in the name field (which reads “Experiment created on [Date]”) and rename the experiment to something descriptive (such as \"Simple Linear Regression\").\n",
    "\n",
    "5. In the left panel, under **Saved Datasets > My Datasets**, click **UN11.csv** and drag it onto the canvas.\n",
    "\n",
    "   <img align=\"center\" style=\"padding-right:10px;\" src=\"Images/030.png\" border=\"5\">\n",
    "   > <font color=red>**Technical note:**</font> You can type the name of any of the modules mentioned in these instructions into the Search experiment items field at the top of the left pane to simplify searching for them.\n",
    "\n",
    "6. In the left panel, under **Data Transformation > Manipulation**, click **Select Columns in Dataset** and drag it onto the canvas under the **UN11.csv** module.\n",
    "\n",
    "7. Connect the **UN11.csv** module to **Select Columns in Dataset**.\n",
    "\n",
    "    <img align=\"center\" style=\"padding-right:10px;\" src=\"Images/035.png\" border=\"5\">\n",
    "\n",
    "8. Click the **Select Columns in Dataset** module if it is not selected. We will use it to select the columns from the dataset to use in the model.\n",
    "    - In the **Properties** panel on the right, click the **Launch column selector** button.\n",
    "    - In the **Select columns** window, click the field next to the **AVAILABLE COLUMNS** pane and select **`lifeExpF`** and **`ppgdp`** and move them to the **SELECTED COLUMNS** pane. Click the check-mark icon.\n",
    "\n",
    "    <img align=\"center\" style=\"padding-right:10px;\" src=\"Images/040.png\" border=\"5\">\n",
    "\n",
    "9. In the left panel, under **Machine Learning > Initialize Model > Regression**, click **Linear Regression** and drag it onto the canvas next to the **Select Columns in Dataset** module.\n",
    "\n",
    "10. Click the **Linear Regression** module. In the **Properties** pane on the right, in the **Random number seed** field enter **`42`**; leave all other default values as they are.\n",
    "\n",
    "    <img align=\"center\" style=\"padding-right:10px;\" src=\"Images/045.png\" border=\"5\">\n",
    "\n",
    "11. In the left pane, under **Machine Learning > Train**, click **Train Model** and drag it onto the canvas under both the **Linear Regression** and **Select Columns in Dataset** modules.\n",
    "\n",
    "12. Connect **Linear Regression** to the upper-left part of the **Train Model** module, and then connect **Select Columns in Dataset** to the upper-right part of it.\n",
    "\n",
    "13. Click on the **Train Model** module so that .we will tell the model which column from the dataset should serve as response in the model.\n",
    "    - In the **Properties** panel on the right, click the **Launch column selector** button.\n",
    "    - In the **Select a single column** window, click the **Press enter to enter column name** field, and then select  **`lifeExpF`** and click the check-mark icon.\n",
    "    \n",
    "    <img align=\"center\" style=\"padding-right:10px;\" src=\"Images/050.png\" border=\"5\">\n",
    "    \n",
    "14. In the left panel, under **Machine Learning > Score**, click **Score Model** and drag it onto the canvas under both the **Train Model** and **Select Columns in Dataset** modules.\n",
    "\n",
    "15. Connect **Train Model** to the upper-left part of the **Score Model** module, and then connect **Select Columns in Dataset** to the upper-right part of it. Leave the default **Properties** setting for the module.\n",
    "\n",
    "16. In the left pane, under **Machine Learning > Evaluate**, click **Evaluate Model** and drag it onto the canvas under the **Score Model** module.\n",
    "\n",
    "17. 17.\tConnect **Score Model** to the upper-left receptor of the **Evaluate Model** module.\n",
    "\n",
    "    <img align=\"center\" style=\"padding-right:10px;\" src=\"Images/055.png\" border=\"5\">\n",
    "\n",
    "18. At the bottom of the window, click **Run**.\n",
    "\n",
    "    <img align=\"center\" style=\"padding-right:10px;\" src=\"Images/060.png\" border=\"5\">\n",
    "    \n",
    "19. After all of the modules have run, right-click the circle in the center at the bottom of the **Evaluate Model** module, and then select **Visualize**.\n",
    "\n",
    "    <img align=\"center\" style=\"padding-right:10px;\" src=\"Images/065.png\" border=\"5\">\n",
    "\n",
    "With an $R^2$ score (referred to in Azure ML Studio as the *Coefficient of Determination*) of 0.30, we got the score that we would expect (identical to what we got in Section 3.1)."
   ]
  },
  {
   "cell_type": "markdown",
   "metadata": {},
   "source": [
    "## Manipulate the dataset\n",
    "\n",
    "Let's do what we did in Section 3.1 and transform `ppgdp` to account for the logarithmic relationship between per-capita GDP and female life expectancy.\n",
    "\n",
    "> **Technical note:** Now that you’re familiar with the Azure ML Studio interface, procedures that follow in this section will only be as detailed as they were above when we encounter new functionality and aspects of the interface.\n",
    "\n",
    "1. From **Statistical Functions** in the left panel, add **Apply Math Operation** between the **UN11.csv** and **Select Columns in Dataset** modules.\n",
    "\n",
    "2. Delete the connector between **UN11.csv** and **Select Columns in Dataset** and instead form the connections to run **UN11.csv -> Apply Math Operation -> Select Columns in Dataset**.\n",
    "\n",
    "3. Click the **Apply Math Operation** module.\n",
    "   - In the **Properties** panel on the right, from the **Category** drop-down menu, select **Basic**.\n",
    "   - In the **Basic math function** drop-down menu, select **Log10**.\n",
    "   - Click the **Launch column selector** button.\n",
    "   - In the **Select columns** window, click the drop-down menu that reads **column type** and then select **column name**. In the field that appear beside that drop-down menu, enter or select **`ppgdp`** and click the check-mark icon.\n",
    "   - In the **Output mode** drop-down menu, select **Append**.\n",
    "   \n",
    "4. Right-click the **Apply Math Operation** module and select **Run selected**.\n",
    "\n",
    "   <img align=\"center\" style=\"padding-right:10px;\" src=\"Images/075.png\" border=\"5\">\n",
    "   \n",
    "5. Click the **Select Columns in Dataset** module and then replace **`ppgdp`** with **`Log10(ppgdp)`** as one of the selected columns.\n",
    "\n",
    "6. After all of the modules have run, right-click the circle at the center-bottom of the **Evaluate Model** module, and then select **Visualize**.\n",
    "\n",
    "Our new model now has an $R^2$ score of 0.60, which is exactly what we expected."
   ]
  },
  {
   "cell_type": "markdown",
   "metadata": {},
   "source": [
    "## Multiple regression revisited\n",
    "\n",
    "We saw in Section 3.1 that we could extract more complex relationships in the data by including more predictors in our model. This is extremely easy to do in Azure ML Studio: all we have to do is include more columns in our model.\n",
    "\n",
    "> **Exercise**\n",
    ">\n",
    "> Go back into your experiment and alter it to include the `pctUrban` column. (**Hint:** Use the **Launch column selector** on the **Select Columns in Dataset** module. Be sure to include `Log10(ppgdp)` and `lifeExpF` in addition to `pctUrban`.)\n",
    "\n",
    "> **Question**\n",
    ">\n",
    "> What was your $R^2$ score for the enhanced model? Is it what you were expecting?\n",
    "\n",
    "Of course, as easy as it is to add columns, we should see what happens when we include all of the columns.\n",
    "\n",
    "1. Click the **Select Columns in Dataset** module and then the **Launch column selector** button.\n",
    "\n",
    "2. In the **Select columns** window in the **AVAILABLE COLUMNS** pane, select **region**, **group**, and **fertility**, move them to the **SELECTED COLUMNS** pane, and click the check-mark button.\n",
    "\n",
    "    <img align=\"center\" style=\"padding-right:10px;\" src=\"Images/085.png\" border=\"5\">\n",
    "\n",
    "3. Run the experiment again and check the new $R^2$ score.\n",
    "\n",
    "Clearly 0.81 is a much better $R^2$ score, which serves to demonstrate that there is a lot of information supplied by the other features. But how is Azure ML Studio handling the categorical features?"
   ]
  },
  {
   "cell_type": "markdown",
   "metadata": {},
   "source": [
    "## Categorical features\n",
    "\n",
    "To see this, right-click in the center at the bottom of the **Train Model** module, and then select **Visualize**.\n",
    "\n",
    "In the **Batch Linear Regressor** window, scroll down. What Azure ML Studio refers to as \"weights\" are what we referred to in Section 3.2 as \"coefficients.\" The bias term is the intercept, and all of the other weights are the slopes. But what does \"slope\" even mean in the context of categorical features?\n",
    "\n",
    "<img align=\"center\" style=\"padding-right:10px;\" src=\"Images/087.png\" border=\"5\">\n",
    "\n",
    "Azure ML Studio uses a technique called [one-hot encoding](https://en.wikipedia.org/wiki/One-hot) in which categorical features are assigned a state of `1` or `0` based on whether or not they are true or not. Thus an Organisation for Economic Co-operation and Developmen (OECD) member country would have a value of `1` for the `oecd` value in `group` and `0`s for `africa` and `other`.\n",
    "\n",
    "Another term for this is *dummy variables*, and it might help to see it in action in Python here in the notebook. First, we'll need to import pandas and our dataset."
   ]
  },
  {
   "cell_type": "code",
   "execution_count": 1,
   "metadata": {
    "collapsed": true
   },
   "outputs": [],
   "source": [
    "import pandas as pd\n",
    "df = pd.read_csv('Data/UN11.csv')"
   ]
  },
  {
   "cell_type": "markdown",
   "metadata": {},
   "source": [
    "Pandas has a function that automatically creates dummy variable for us, `get_dummies()`. Here is it in use on the `group` feature of our dataset."
   ]
  },
  {
   "cell_type": "code",
   "execution_count": 2,
   "metadata": {},
   "outputs": [
    {
     "output_type": "execute_result",
     "data": {
      "text/plain": "      region  fertility    ppgdp  lifeExpF  pctUrban  group_africa  \\\n0       Asia      5.968    499.0     49.49        23             0   \n1     Europe      1.525   3677.2     80.40        53             0   \n2     Africa      2.142   4473.0     75.00        67             1   \n3     Africa      5.135   4321.9     53.17        59             1   \n4  Caribbean      2.000  13750.1     81.10       100             0   \n\n   group_oecd  group_other  \n0           0            1  \n1           0            1  \n2           0            0  \n3           0            0  \n4           0            1  ",
      "text/html": "<div>\n<style scoped>\n    .dataframe tbody tr th:only-of-type {\n        vertical-align: middle;\n    }\n\n    .dataframe tbody tr th {\n        vertical-align: top;\n    }\n\n    .dataframe thead th {\n        text-align: right;\n    }\n</style>\n<table border=\"1\" class=\"dataframe\">\n  <thead>\n    <tr style=\"text-align: right;\">\n      <th></th>\n      <th>region</th>\n      <th>fertility</th>\n      <th>ppgdp</th>\n      <th>lifeExpF</th>\n      <th>pctUrban</th>\n      <th>group_africa</th>\n      <th>group_oecd</th>\n      <th>group_other</th>\n    </tr>\n  </thead>\n  <tbody>\n    <tr>\n      <th>0</th>\n      <td>Asia</td>\n      <td>5.968</td>\n      <td>499.0</td>\n      <td>49.49</td>\n      <td>23</td>\n      <td>0</td>\n      <td>0</td>\n      <td>1</td>\n    </tr>\n    <tr>\n      <th>1</th>\n      <td>Europe</td>\n      <td>1.525</td>\n      <td>3677.2</td>\n      <td>80.40</td>\n      <td>53</td>\n      <td>0</td>\n      <td>0</td>\n      <td>1</td>\n    </tr>\n    <tr>\n      <th>2</th>\n      <td>Africa</td>\n      <td>2.142</td>\n      <td>4473.0</td>\n      <td>75.00</td>\n      <td>67</td>\n      <td>1</td>\n      <td>0</td>\n      <td>0</td>\n    </tr>\n    <tr>\n      <th>3</th>\n      <td>Africa</td>\n      <td>5.135</td>\n      <td>4321.9</td>\n      <td>53.17</td>\n      <td>59</td>\n      <td>1</td>\n      <td>0</td>\n      <td>0</td>\n    </tr>\n    <tr>\n      <th>4</th>\n      <td>Caribbean</td>\n      <td>2.000</td>\n      <td>13750.1</td>\n      <td>81.10</td>\n      <td>100</td>\n      <td>0</td>\n      <td>0</td>\n      <td>1</td>\n    </tr>\n  </tbody>\n</table>\n</div>"
     },
     "metadata": {},
     "execution_count": 2
    }
   ],
   "source": [
    "df = pd.get_dummies(data=df, columns=['group'])\n",
    "df.head()"
   ]
  },
  {
   "cell_type": "markdown",
   "metadata": {},
   "source": [
    "We no longer have a single `group` column, but rather columns for `group_africa`, `group_oecd`, and `group_other`.\n",
    "\n",
    "> **Exercise**\n",
    ">\n",
    "> Now use the `get_dummies()` function to create dummy variables for the `region` column and display the first five entries of the updated `DataFrame`.\n",
    "\n",
    "> **Exercise solution**"
   ]
  },
  {
   "cell_type": "code",
   "execution_count": 3,
   "metadata": {},
   "outputs": [
    {
     "output_type": "execute_result",
     "data": {
      "text/plain": "   fertility    ppgdp  lifeExpF  pctUrban  group_africa  group_oecd  \\\n0      5.968    499.0     49.49        23             0           0   \n1      1.525   3677.2     80.40        53             0           0   \n2      2.142   4473.0     75.00        67             1           0   \n3      5.135   4321.9     53.17        59             1           0   \n4      2.000  13750.1     81.10       100             0           0   \n\n   group_other  region_Africa  region_Asia  region_Caribbean  region_Europe  \\\n0            1              0            1                 0              0   \n1            1              0            0                 0              1   \n2            0              1            0                 0              0   \n3            0              1            0                 0              0   \n4            1              0            0                 1              0   \n\n   region_Latin Amer  region_North America  region_NorthAtlantic  \\\n0                  0                     0                     0   \n1                  0                     0                     0   \n2                  0                     0                     0   \n3                  0                     0                     0   \n4                  0                     0                     0   \n\n   region_Oceania  \n0               0  \n1               0  \n2               0  \n3               0  \n4               0  ",
      "text/html": "<div>\n<style scoped>\n    .dataframe tbody tr th:only-of-type {\n        vertical-align: middle;\n    }\n\n    .dataframe tbody tr th {\n        vertical-align: top;\n    }\n\n    .dataframe thead th {\n        text-align: right;\n    }\n</style>\n<table border=\"1\" class=\"dataframe\">\n  <thead>\n    <tr style=\"text-align: right;\">\n      <th></th>\n      <th>fertility</th>\n      <th>ppgdp</th>\n      <th>lifeExpF</th>\n      <th>pctUrban</th>\n      <th>group_africa</th>\n      <th>group_oecd</th>\n      <th>group_other</th>\n      <th>region_Africa</th>\n      <th>region_Asia</th>\n      <th>region_Caribbean</th>\n      <th>region_Europe</th>\n      <th>region_Latin Amer</th>\n      <th>region_North America</th>\n      <th>region_NorthAtlantic</th>\n      <th>region_Oceania</th>\n    </tr>\n  </thead>\n  <tbody>\n    <tr>\n      <th>0</th>\n      <td>5.968</td>\n      <td>499.0</td>\n      <td>49.49</td>\n      <td>23</td>\n      <td>0</td>\n      <td>0</td>\n      <td>1</td>\n      <td>0</td>\n      <td>1</td>\n      <td>0</td>\n      <td>0</td>\n      <td>0</td>\n      <td>0</td>\n      <td>0</td>\n      <td>0</td>\n    </tr>\n    <tr>\n      <th>1</th>\n      <td>1.525</td>\n      <td>3677.2</td>\n      <td>80.40</td>\n      <td>53</td>\n      <td>0</td>\n      <td>0</td>\n      <td>1</td>\n      <td>0</td>\n      <td>0</td>\n      <td>0</td>\n      <td>1</td>\n      <td>0</td>\n      <td>0</td>\n      <td>0</td>\n      <td>0</td>\n    </tr>\n    <tr>\n      <th>2</th>\n      <td>2.142</td>\n      <td>4473.0</td>\n      <td>75.00</td>\n      <td>67</td>\n      <td>1</td>\n      <td>0</td>\n      <td>0</td>\n      <td>1</td>\n      <td>0</td>\n      <td>0</td>\n      <td>0</td>\n      <td>0</td>\n      <td>0</td>\n      <td>0</td>\n      <td>0</td>\n    </tr>\n    <tr>\n      <th>3</th>\n      <td>5.135</td>\n      <td>4321.9</td>\n      <td>53.17</td>\n      <td>59</td>\n      <td>1</td>\n      <td>0</td>\n      <td>0</td>\n      <td>1</td>\n      <td>0</td>\n      <td>0</td>\n      <td>0</td>\n      <td>0</td>\n      <td>0</td>\n      <td>0</td>\n      <td>0</td>\n    </tr>\n    <tr>\n      <th>4</th>\n      <td>2.000</td>\n      <td>13750.1</td>\n      <td>81.10</td>\n      <td>100</td>\n      <td>0</td>\n      <td>0</td>\n      <td>1</td>\n      <td>0</td>\n      <td>0</td>\n      <td>1</td>\n      <td>0</td>\n      <td>0</td>\n      <td>0</td>\n      <td>0</td>\n      <td>0</td>\n    </tr>\n  </tbody>\n</table>\n</div>"
     },
     "metadata": {},
     "execution_count": 3
    }
   ],
   "source": [
    "df = pd.get_dummies(data=df, columns=['region'])\n",
    "df.head()"
   ]
  },
  {
   "cell_type": "markdown",
   "metadata": {},
   "source": [
    "> **Technical note:** Note that each category within a categorical feature requires its own column for the dummy variables, each of which in turn constitutes its own new feature. If you have data with many categories in it, this can greatly increase the number of features you must deal with. For example, we just turned our dataset from one with six features into one with 15 features. Remember that as the number of features increases, so does the amount of data needed to adequately model it. The curse of dimensionality strikes again!\n",
    "\n",
    "Back to the model in Azure ML Studio. When it comes time to make predictions based on the model, all features get multiplied by their respective coefficients. The continuous numeric features (`fertility`, `ppgdp`, `lifeExpF`, and `pctUrban`) have their values multiplied by their weights, and the dummy variables have their `1` or `0` value multiplied by their weights."
   ]
  },
  {
   "cell_type": "markdown",
   "metadata": {},
   "source": [
    "## Splitting data\n",
    "\n",
    "So far in this section and Section 3.1, we have been committing a fairly serious data-science sin in the name of instructional clarity: we have not been splitting our data into test and training sets. This made sense while we were exploring the mechanics of linear regression, but now it's time to start handling our data correctly.\n",
    "\n",
    "1. On the experiment canvas in Azure ML Studio, delete the connections between **Select Columns in Dataset** and the **Train Model** and **Score Model** modules.\n",
    "\n",
    "2. From the left pane, under **Data Transformation > Sample and Split**, drag **Split Data** under the **Select Columns in Dataset** module.\n",
    "\n",
    "3. In the **Properties** pane for the **Split Data** module, enter `0.7` for **Fraction of rows in the first output dataset**, and enter `42` for **Random seed**. Leave the default values for all other settings.\n",
    "\n",
    "4. Connect **Select Columns in Dataset** to the top of the **Split Data** module, connect the lower-left circle in the **Split Data** module to the upper-right receptor in the **Train Model** module, and connect the lower-right circle to the upper-right receptor in the **Score Model** module.\n",
    "\n",
    " <img align=\"center\" style=\"padding-right:10px;\" src=\"Images/090.png\" border=\"5\">\n",
    "\n",
    " > **Technical note:** The order of these connections (whether from the left side or the right side of the **Split Data** module) does matter.\n",
    " \n",
    "5. Run this experiment now with the split data and evaluate its $R^2$ score (right-click the bottom-center circle of the **Evaluate Model** module and select **Visualize**).\n",
    "\n",
    "Our $R^2$ score dropped to 0.79. This is a sure sign that without splitting the data, we were overfitting the model. Recall, however, that we set the random seed for our data splitting so that it would split the data the same way each time.\n",
    "\n",
    "> **Exercise**\n",
    ">\n",
    "> Return to the **Split Data** module and change the random seed value to a different number. Run the experiment a few times with different seeds and compare the $R^2$ value for the runs.\n",
    "\n",
    "> **Question**\n",
    ">\n",
    "> Why do you think that different values for the random seed would produce different $R^2$ values?\n",
    "\n",
    "Clearly, some splits of the training data fit models that perform slightly better against a particular split of test data. What if we could split the data several times and see how our model does against all of those splits?"
   ]
  },
  {
   "cell_type": "markdown",
   "metadata": {},
   "source": [
    "## Cross validation\n",
    "\n",
    "The idea behind cross validation is that a single set of data is split multiple times between test and training data and evaluated. Each iteration of the splitting of this data is referred to as a “fold.” For example, using 10 folds to evaluate a model is 10-fold cross validation (note that data scientists speak more generally of $k$-fold cross validation). The resulting score for a given model is the average of its performance against all of the different folds.\n",
    "\n",
    "Let's compare cross validation to regular data splitting.\n",
    "\n",
    "1. From the left pane under **Machine Learning > Initialize Model > Regression**, take another **Linear Regression** module and drag it onto the canvas somewhere to the right of your current stack of modules.\n",
    "\n",
    "2. In the **Properties** panel of this new **Linear Regression** module, make sure that you have the same settings as in the original **Linear Regression** module (L2 regularization weight = 0.001 and Random number seed = 42).\n",
    "\n",
    "3. In the left pane, under **Machine Learning > Evaluate**, click **Cross Validate Model** and drag that module onto the canvas under the new **Linear Regression** module.\n",
    "\n",
    "4. Connect the new **Linear Regression** module to the **upper-left** receptor on the **Cross Validate Model** module (the receptor does matter).\n",
    "\n",
    "5. Connect the lower-left output from the **Split Data** module to the upper-right receptor in the **Cross Validate Model** module.\n",
    "\n",
    " > **Technical note:** Although you would normally not split your data before running it though cross validation, we're doing so here to make a more apples-to-apples comparison of models evaluated with and without cross validation.\n",
    "\n",
    "6. in the **Properties** pane in the **Cross Validate Model** module, set the random seed to `42` and select the `lifeExpF` column.\n",
    "\n",
    "7. Connect the **lower-left** output from the **Cross Validate Model** module to the upper-right receptor in the **Evaluate Model** module.\n",
    "\n",
    "    <img align=\"center\" style=\"padding-right:10px;\" src=\"Images/095.png\" border=\"5\">\n",
    "\n",
    "8. Run the experiment and open the evaluation screen (right-click the bottom of the **Evaluate Model** module) when all modules have finished running. (**Note:** It might take several minutes for the cross validation to run.)\n",
    "\n",
    "The cross-validation results on are on the right. They have a lower mean absolute error, meaning that it made smaller mistakes in prediction, on average, than did the model fitted by using regular data splitting. (This is borne out by the greater number of small errors in the histogram for the cross-validation results.) That said, it has a lower $R^2$ score than the normal data-splitting on the left. This doesn't mean that it did worse; the two models are identical, were fitted using the same training data, and were compared using the same test data. What this means is that the cross-validation results are a more accurate representation of the $R^2$ score running this model against different datasets.\n",
    "\n",
    "> **Technical note:** Cross validation can given you a more consistent picture of your model's performance against new data. This is important in production applications, but one tradeoff that comes with it is computational time: your model completes an entire run for each fold of your cross validation. For computationally intense models, including many folds in cross validation might not be feasible.\n",
    "\n",
    "What do the results for the individual folds look like? To see the results, right-click the lower-right output circle in the **Cross Validate Model** module and select **Visualize**.\n",
    "\n",
    "<img align=\"center\" style=\"padding-right:10px;\" src=\"Images/100.png\" border=\"5\">\n",
    "\n",
    "As you can see from the report, some folds were very good and some were spectacularly bad.\n",
    "\n",
    "> **Exercise**\n",
    ">\n",
    "> Delete the connection between the **Split Data** and **Cross Validate Model** modules and connect the output from the **Select Columns in Dataset** module to the upper-right receptor in the **Cross Validate Model** module. Re-run the experiment and review the evaluation report.\n",
    "\n",
    "> **Question**\n",
    ">\n",
    "> Why are the $R^2$ scores now much more similar?\n",
    "\n",
    "Splitting our data for training can help combat overfitting, and cross validation can give us a better idea of how our model might perform on new datasets. But what can we do about outliers in our training data?"
   ]
  },
  {
   "cell_type": "markdown",
   "metadata": {},
   "source": [
    "## Ridge regression\n",
    "\n",
    "Outliers in our training data -- data points that stray from the general clustering of other data points -- are problematic because they skew our model while we’re fitting it. To see this, let's look at some simplified synthetic data. Beyond pandas, we’ll also need NumPy and matplotlib to demonstrate this."
   ]
  },
  {
   "cell_type": "code",
   "execution_count": 4,
   "metadata": {},
   "outputs": [],
   "source": [
    "import numpy as np\n",
    "import matplotlib.pyplot as plt\n",
    "%matplotlib inline\n",
    "from sklearn.linear_model import LinearRegression, Ridge"
   ]
  },
  {
   "cell_type": "markdown",
   "metadata": {},
   "source": [
    "We'll create a `DataFrame` with points that are mostly regularly clustered but with two outliers added."
   ]
  },
  {
   "cell_type": "code",
   "execution_count": 5,
   "metadata": {},
   "outputs": [
    {
     "output_type": "display_data",
     "data": {
      "text/plain": "<Figure size 432x288 with 1 Axes>",
      "image/svg+xml": "<?xml version=\"1.0\" encoding=\"utf-8\" standalone=\"no\"?>\r\n<!DOCTYPE svg PUBLIC \"-//W3C//DTD SVG 1.1//EN\"\r\n  \"http://www.w3.org/Graphics/SVG/1.1/DTD/svg11.dtd\">\r\n<!-- Created with matplotlib (https://matplotlib.org/) -->\r\n<svg height=\"248.518125pt\" version=\"1.1\" viewBox=\"0 0 368.925 248.518125\" width=\"368.925pt\" xmlns=\"http://www.w3.org/2000/svg\" xmlns:xlink=\"http://www.w3.org/1999/xlink\">\r\n <defs>\r\n  <style type=\"text/css\">\r\n*{stroke-linecap:butt;stroke-linejoin:round;}\r\n  </style>\r\n </defs>\r\n <g id=\"figure_1\">\r\n  <g id=\"patch_1\">\r\n   <path d=\"M -0 248.518125 \r\nL 368.925 248.518125 \r\nL 368.925 0 \r\nL -0 0 \r\nz\r\n\" style=\"fill:none;\"/>\r\n  </g>\r\n  <g id=\"axes_1\">\r\n   <g id=\"patch_2\">\r\n    <path d=\"M 26.925 224.64 \r\nL 361.725 224.64 \r\nL 361.725 7.2 \r\nL 26.925 7.2 \r\nz\r\n\" style=\"fill:#ffffff;\"/>\r\n   </g>\r\n   <g id=\"PathCollection_1\">\r\n    <defs>\r\n     <path d=\"M 0 3 \r\nC 0.795609 3 1.55874 2.683901 2.12132 2.12132 \r\nC 2.683901 1.55874 3 0.795609 3 0 \r\nC 3 -0.795609 2.683901 -1.55874 2.12132 -2.12132 \r\nC 1.55874 -2.683901 0.795609 -3 0 -3 \r\nC -0.795609 -3 -1.55874 -2.683901 -2.12132 -2.12132 \r\nC -2.683901 -1.55874 -3 -0.795609 -3 0 \r\nC -3 0.795609 -2.683901 1.55874 -2.12132 2.12132 \r\nC -1.55874 2.683901 -0.795609 3 0 3 \r\nz\r\n\" id=\"m9779881d8d\" style=\"stroke:#1f77b4;\"/>\r\n    </defs>\r\n    <g clip-path=\"url(#p7c03e0bf86)\">\r\n     <use style=\"fill:#1f77b4;stroke:#1f77b4;\" x=\"42.415421\" xlink:href=\"#m9779881d8d\" y=\"204.48885\"/>\r\n     <use style=\"fill:#1f77b4;stroke:#1f77b4;\" x=\"48.615812\" xlink:href=\"#m9779881d8d\" y=\"202.693055\"/>\r\n     <use style=\"fill:#1f77b4;stroke:#1f77b4;\" x=\"54.816203\" xlink:href=\"#m9779881d8d\" y=\"199.009984\"/>\r\n     <use style=\"fill:#1f77b4;stroke:#1f77b4;\" x=\"61.016594\" xlink:href=\"#m9779881d8d\" y=\"210.894337\"/>\r\n     <use style=\"fill:#1f77b4;stroke:#1f77b4;\" x=\"67.216985\" xlink:href=\"#m9779881d8d\" y=\"207.605226\"/>\r\n     <use style=\"fill:#1f77b4;stroke:#1f77b4;\" x=\"73.417376\" xlink:href=\"#m9779881d8d\" y=\"194.129604\"/>\r\n     <use style=\"fill:#1f77b4;stroke:#1f77b4;\" x=\"79.617767\" xlink:href=\"#m9779881d8d\" y=\"191.925299\"/>\r\n     <use style=\"fill:#1f77b4;stroke:#1f77b4;\" x=\"85.818158\" xlink:href=\"#m9779881d8d\" y=\"201.771759\"/>\r\n     <use style=\"fill:#1f77b4;stroke:#1f77b4;\" x=\"92.018549\" xlink:href=\"#m9779881d8d\" y=\"199.161262\"/>\r\n     <use style=\"fill:#1f77b4;stroke:#1f77b4;\" x=\"98.21894\" xlink:href=\"#m9779881d8d\" y=\"195.836187\"/>\r\n     <use style=\"fill:#1f77b4;stroke:#1f77b4;\" x=\"104.419331\" xlink:href=\"#m9779881d8d\" y=\"206.951892\"/>\r\n     <use style=\"fill:#1f77b4;stroke:#1f77b4;\" x=\"110.619722\" xlink:href=\"#m9779881d8d\" y=\"203.175495\"/>\r\n     <use style=\"fill:#1f77b4;stroke:#1f77b4;\" x=\"116.820113\" xlink:href=\"#m9779881d8d\" y=\"198.090962\"/>\r\n     <use style=\"fill:#1f77b4;stroke:#1f77b4;\" x=\"123.020504\" xlink:href=\"#m9779881d8d\" y=\"191.47281\"/>\r\n     <use style=\"fill:#1f77b4;stroke:#1f77b4;\" x=\"129.220895\" xlink:href=\"#m9779881d8d\" y=\"192.762215\"/>\r\n     <use style=\"fill:#1f77b4;stroke:#1f77b4;\" x=\"135.421286\" xlink:href=\"#m9779881d8d\" y=\"197.53084\"/>\r\n     <use style=\"fill:#1f77b4;stroke:#1f77b4;\" x=\"141.621677\" xlink:href=\"#m9779881d8d\" y=\"190.386785\"/>\r\n     <use style=\"fill:#1f77b4;stroke:#1f77b4;\" x=\"147.822068\" xlink:href=\"#m9779881d8d\" y=\"198.23564\"/>\r\n     <use style=\"fill:#1f77b4;stroke:#1f77b4;\" x=\"154.022459\" xlink:href=\"#m9779881d8d\" y=\"194.632696\"/>\r\n     <use style=\"fill:#1f77b4;stroke:#1f77b4;\" x=\"160.22285\" xlink:href=\"#m9779881d8d\" y=\"191.397251\"/>\r\n     <use style=\"fill:#1f77b4;stroke:#1f77b4;\" x=\"166.423241\" xlink:href=\"#m9779881d8d\" y=\"188.054649\"/>\r\n     <use style=\"fill:#1f77b4;stroke:#1f77b4;\" x=\"172.623632\" xlink:href=\"#m9779881d8d\" y=\"196.554149\"/>\r\n     <use style=\"fill:#1f77b4;stroke:#1f77b4;\" x=\"178.824023\" xlink:href=\"#m9779881d8d\" y=\"188.543015\"/>\r\n     <use style=\"fill:#1f77b4;stroke:#1f77b4;\" x=\"185.024414\" xlink:href=\"#m9779881d8d\" y=\"185.8491\"/>\r\n     <use style=\"fill:#1f77b4;stroke:#1f77b4;\" x=\"191.224805\" xlink:href=\"#m9779881d8d\" y=\"192.565619\"/>\r\n     <use style=\"fill:#1f77b4;stroke:#1f77b4;\" x=\"197.425195\" xlink:href=\"#m9779881d8d\" y=\"185.871339\"/>\r\n     <use style=\"fill:#1f77b4;stroke:#1f77b4;\" x=\"203.625586\" xlink:href=\"#m9779881d8d\" y=\"198.218578\"/>\r\n     <use style=\"fill:#1f77b4;stroke:#1f77b4;\" x=\"209.825977\" xlink:href=\"#m9779881d8d\" y=\"196.95604\"/>\r\n     <use style=\"fill:#1f77b4;stroke:#1f77b4;\" x=\"216.026368\" xlink:href=\"#m9779881d8d\" y=\"189.122593\"/>\r\n     <use style=\"fill:#1f77b4;stroke:#1f77b4;\" x=\"222.226759\" xlink:href=\"#m9779881d8d\" y=\"196.96329\"/>\r\n     <use style=\"fill:#1f77b4;stroke:#1f77b4;\" x=\"228.42715\" xlink:href=\"#m9779881d8d\" y=\"194.141532\"/>\r\n     <use style=\"fill:#1f77b4;stroke:#1f77b4;\" x=\"234.627541\" xlink:href=\"#m9779881d8d\" y=\"200.067065\"/>\r\n     <use style=\"fill:#1f77b4;stroke:#1f77b4;\" x=\"240.827932\" xlink:href=\"#m9779881d8d\" y=\"195.749055\"/>\r\n     <use style=\"fill:#1f77b4;stroke:#1f77b4;\" x=\"247.028323\" xlink:href=\"#m9779881d8d\" y=\"188.75482\"/>\r\n     <use style=\"fill:#1f77b4;stroke:#1f77b4;\" x=\"253.228714\" xlink:href=\"#m9779881d8d\" y=\"186.476317\"/>\r\n     <use style=\"fill:#1f77b4;stroke:#1f77b4;\" x=\"259.429105\" xlink:href=\"#m9779881d8d\" y=\"183.603353\"/>\r\n     <use style=\"fill:#1f77b4;stroke:#1f77b4;\" x=\"265.629496\" xlink:href=\"#m9779881d8d\" y=\"188.750816\"/>\r\n     <use style=\"fill:#1f77b4;stroke:#1f77b4;\" x=\"271.829887\" xlink:href=\"#m9779881d8d\" y=\"187.720749\"/>\r\n     <use style=\"fill:#1f77b4;stroke:#1f77b4;\" x=\"278.030278\" xlink:href=\"#m9779881d8d\" y=\"189.962831\"/>\r\n     <use style=\"fill:#1f77b4;stroke:#1f77b4;\" x=\"284.230669\" xlink:href=\"#m9779881d8d\" y=\"182.978187\"/>\r\n     <use style=\"fill:#1f77b4;stroke:#1f77b4;\" x=\"290.43106\" xlink:href=\"#m9779881d8d\" y=\"182.291872\"/>\r\n     <use style=\"fill:#1f77b4;stroke:#1f77b4;\" x=\"296.631451\" xlink:href=\"#m9779881d8d\" y=\"190.620149\"/>\r\n     <use style=\"fill:#1f77b4;stroke:#1f77b4;\" x=\"302.831842\" xlink:href=\"#m9779881d8d\" y=\"190.241054\"/>\r\n     <use style=\"fill:#1f77b4;stroke:#1f77b4;\" x=\"309.032233\" xlink:href=\"#m9779881d8d\" y=\"188.987068\"/>\r\n     <use style=\"fill:#1f77b4;stroke:#1f77b4;\" x=\"315.232624\" xlink:href=\"#m9779881d8d\" y=\"188.078106\"/>\r\n     <use style=\"fill:#1f77b4;stroke:#1f77b4;\" x=\"321.433015\" xlink:href=\"#m9779881d8d\" y=\"185.010157\"/>\r\n     <use style=\"fill:#1f77b4;stroke:#1f77b4;\" x=\"327.633406\" xlink:href=\"#m9779881d8d\" y=\"171.310849\"/>\r\n     <use style=\"fill:#1f77b4;stroke:#1f77b4;\" x=\"333.833797\" xlink:href=\"#m9779881d8d\" y=\"174.483458\"/>\r\n     <use style=\"fill:#1f77b4;stroke:#1f77b4;\" x=\"340.034188\" xlink:href=\"#m9779881d8d\" y=\"17.158876\"/>\r\n     <use style=\"fill:#1f77b4;stroke:#1f77b4;\" x=\"346.234579\" xlink:href=\"#m9779881d8d\" y=\"22.880362\"/>\r\n    </g>\r\n   </g>\r\n   <g id=\"matplotlib.axis_1\">\r\n    <g id=\"xtick_1\">\r\n     <g id=\"line2d_1\">\r\n      <defs>\r\n       <path d=\"M 0 0 \r\nL 0 3.5 \r\n\" id=\"mb2b86064de\" style=\"stroke:#000000;stroke-width:0.8;\"/>\r\n      </defs>\r\n      <g>\r\n       <use style=\"stroke:#000000;stroke-width:0.8;\" x=\"42.415421\" xlink:href=\"#mb2b86064de\" y=\"224.64\"/>\r\n      </g>\r\n     </g>\r\n     <g id=\"text_1\">\r\n      <!-- 0 -->\r\n      <defs>\r\n       <path d=\"M 31.78125 66.40625 \r\nQ 24.171875 66.40625 20.328125 58.90625 \r\nQ 16.5 51.421875 16.5 36.375 \r\nQ 16.5 21.390625 20.328125 13.890625 \r\nQ 24.171875 6.390625 31.78125 6.390625 \r\nQ 39.453125 6.390625 43.28125 13.890625 \r\nQ 47.125 21.390625 47.125 36.375 \r\nQ 47.125 51.421875 43.28125 58.90625 \r\nQ 39.453125 66.40625 31.78125 66.40625 \r\nz\r\nM 31.78125 74.21875 \r\nQ 44.046875 74.21875 50.515625 64.515625 \r\nQ 56.984375 54.828125 56.984375 36.375 \r\nQ 56.984375 17.96875 50.515625 8.265625 \r\nQ 44.046875 -1.421875 31.78125 -1.421875 \r\nQ 19.53125 -1.421875 13.0625 8.265625 \r\nQ 6.59375 17.96875 6.59375 36.375 \r\nQ 6.59375 54.828125 13.0625 64.515625 \r\nQ 19.53125 74.21875 31.78125 74.21875 \r\nz\r\n\" id=\"DejaVuSans-48\"/>\r\n      </defs>\r\n      <g transform=\"translate(39.234171 239.238437)scale(0.1 -0.1)\">\r\n       <use xlink:href=\"#DejaVuSans-48\"/>\r\n      </g>\r\n     </g>\r\n    </g>\r\n    <g id=\"xtick_2\">\r\n     <g id=\"line2d_2\">\r\n      <g>\r\n       <use style=\"stroke:#000000;stroke-width:0.8;\" x=\"103.179253\" xlink:href=\"#mb2b86064de\" y=\"224.64\"/>\r\n      </g>\r\n     </g>\r\n     <g id=\"text_2\">\r\n      <!-- 2 -->\r\n      <defs>\r\n       <path d=\"M 19.1875 8.296875 \r\nL 53.609375 8.296875 \r\nL 53.609375 0 \r\nL 7.328125 0 \r\nL 7.328125 8.296875 \r\nQ 12.9375 14.109375 22.625 23.890625 \r\nQ 32.328125 33.6875 34.8125 36.53125 \r\nQ 39.546875 41.84375 41.421875 45.53125 \r\nQ 43.3125 49.21875 43.3125 52.78125 \r\nQ 43.3125 58.59375 39.234375 62.25 \r\nQ 35.15625 65.921875 28.609375 65.921875 \r\nQ 23.96875 65.921875 18.8125 64.3125 \r\nQ 13.671875 62.703125 7.8125 59.421875 \r\nL 7.8125 69.390625 \r\nQ 13.765625 71.78125 18.9375 73 \r\nQ 24.125 74.21875 28.421875 74.21875 \r\nQ 39.75 74.21875 46.484375 68.546875 \r\nQ 53.21875 62.890625 53.21875 53.421875 \r\nQ 53.21875 48.921875 51.53125 44.890625 \r\nQ 49.859375 40.875 45.40625 35.40625 \r\nQ 44.1875 33.984375 37.640625 27.21875 \r\nQ 31.109375 20.453125 19.1875 8.296875 \r\nz\r\n\" id=\"DejaVuSans-50\"/>\r\n      </defs>\r\n      <g transform=\"translate(99.998003 239.238437)scale(0.1 -0.1)\">\r\n       <use xlink:href=\"#DejaVuSans-50\"/>\r\n      </g>\r\n     </g>\r\n    </g>\r\n    <g id=\"xtick_3\">\r\n     <g id=\"line2d_3\">\r\n      <g>\r\n       <use style=\"stroke:#000000;stroke-width:0.8;\" x=\"163.943084\" xlink:href=\"#mb2b86064de\" y=\"224.64\"/>\r\n      </g>\r\n     </g>\r\n     <g id=\"text_3\">\r\n      <!-- 4 -->\r\n      <defs>\r\n       <path d=\"M 37.796875 64.3125 \r\nL 12.890625 25.390625 \r\nL 37.796875 25.390625 \r\nz\r\nM 35.203125 72.90625 \r\nL 47.609375 72.90625 \r\nL 47.609375 25.390625 \r\nL 58.015625 25.390625 \r\nL 58.015625 17.1875 \r\nL 47.609375 17.1875 \r\nL 47.609375 0 \r\nL 37.796875 0 \r\nL 37.796875 17.1875 \r\nL 4.890625 17.1875 \r\nL 4.890625 26.703125 \r\nz\r\n\" id=\"DejaVuSans-52\"/>\r\n      </defs>\r\n      <g transform=\"translate(160.761834 239.238437)scale(0.1 -0.1)\">\r\n       <use xlink:href=\"#DejaVuSans-52\"/>\r\n      </g>\r\n     </g>\r\n    </g>\r\n    <g id=\"xtick_4\">\r\n     <g id=\"line2d_4\">\r\n      <g>\r\n       <use style=\"stroke:#000000;stroke-width:0.8;\" x=\"224.706916\" xlink:href=\"#mb2b86064de\" y=\"224.64\"/>\r\n      </g>\r\n     </g>\r\n     <g id=\"text_4\">\r\n      <!-- 6 -->\r\n      <defs>\r\n       <path d=\"M 33.015625 40.375 \r\nQ 26.375 40.375 22.484375 35.828125 \r\nQ 18.609375 31.296875 18.609375 23.390625 \r\nQ 18.609375 15.53125 22.484375 10.953125 \r\nQ 26.375 6.390625 33.015625 6.390625 \r\nQ 39.65625 6.390625 43.53125 10.953125 \r\nQ 47.40625 15.53125 47.40625 23.390625 \r\nQ 47.40625 31.296875 43.53125 35.828125 \r\nQ 39.65625 40.375 33.015625 40.375 \r\nz\r\nM 52.59375 71.296875 \r\nL 52.59375 62.3125 \r\nQ 48.875 64.0625 45.09375 64.984375 \r\nQ 41.3125 65.921875 37.59375 65.921875 \r\nQ 27.828125 65.921875 22.671875 59.328125 \r\nQ 17.53125 52.734375 16.796875 39.40625 \r\nQ 19.671875 43.65625 24.015625 45.921875 \r\nQ 28.375 48.1875 33.59375 48.1875 \r\nQ 44.578125 48.1875 50.953125 41.515625 \r\nQ 57.328125 34.859375 57.328125 23.390625 \r\nQ 57.328125 12.15625 50.6875 5.359375 \r\nQ 44.046875 -1.421875 33.015625 -1.421875 \r\nQ 20.359375 -1.421875 13.671875 8.265625 \r\nQ 6.984375 17.96875 6.984375 36.375 \r\nQ 6.984375 53.65625 15.1875 63.9375 \r\nQ 23.390625 74.21875 37.203125 74.21875 \r\nQ 40.921875 74.21875 44.703125 73.484375 \r\nQ 48.484375 72.75 52.59375 71.296875 \r\nz\r\n\" id=\"DejaVuSans-54\"/>\r\n      </defs>\r\n      <g transform=\"translate(221.525666 239.238437)scale(0.1 -0.1)\">\r\n       <use xlink:href=\"#DejaVuSans-54\"/>\r\n      </g>\r\n     </g>\r\n    </g>\r\n    <g id=\"xtick_5\">\r\n     <g id=\"line2d_5\">\r\n      <g>\r\n       <use style=\"stroke:#000000;stroke-width:0.8;\" x=\"285.470747\" xlink:href=\"#mb2b86064de\" y=\"224.64\"/>\r\n      </g>\r\n     </g>\r\n     <g id=\"text_5\">\r\n      <!-- 8 -->\r\n      <defs>\r\n       <path d=\"M 31.78125 34.625 \r\nQ 24.75 34.625 20.71875 30.859375 \r\nQ 16.703125 27.09375 16.703125 20.515625 \r\nQ 16.703125 13.921875 20.71875 10.15625 \r\nQ 24.75 6.390625 31.78125 6.390625 \r\nQ 38.8125 6.390625 42.859375 10.171875 \r\nQ 46.921875 13.96875 46.921875 20.515625 \r\nQ 46.921875 27.09375 42.890625 30.859375 \r\nQ 38.875 34.625 31.78125 34.625 \r\nz\r\nM 21.921875 38.8125 \r\nQ 15.578125 40.375 12.03125 44.71875 \r\nQ 8.5 49.078125 8.5 55.328125 \r\nQ 8.5 64.0625 14.71875 69.140625 \r\nQ 20.953125 74.21875 31.78125 74.21875 \r\nQ 42.671875 74.21875 48.875 69.140625 \r\nQ 55.078125 64.0625 55.078125 55.328125 \r\nQ 55.078125 49.078125 51.53125 44.71875 \r\nQ 48 40.375 41.703125 38.8125 \r\nQ 48.828125 37.15625 52.796875 32.3125 \r\nQ 56.78125 27.484375 56.78125 20.515625 \r\nQ 56.78125 9.90625 50.3125 4.234375 \r\nQ 43.84375 -1.421875 31.78125 -1.421875 \r\nQ 19.734375 -1.421875 13.25 4.234375 \r\nQ 6.78125 9.90625 6.78125 20.515625 \r\nQ 6.78125 27.484375 10.78125 32.3125 \r\nQ 14.796875 37.15625 21.921875 38.8125 \r\nz\r\nM 18.3125 54.390625 \r\nQ 18.3125 48.734375 21.84375 45.5625 \r\nQ 25.390625 42.390625 31.78125 42.390625 \r\nQ 38.140625 42.390625 41.71875 45.5625 \r\nQ 45.3125 48.734375 45.3125 54.390625 \r\nQ 45.3125 60.0625 41.71875 63.234375 \r\nQ 38.140625 66.40625 31.78125 66.40625 \r\nQ 25.390625 66.40625 21.84375 63.234375 \r\nQ 18.3125 60.0625 18.3125 54.390625 \r\nz\r\n\" id=\"DejaVuSans-56\"/>\r\n      </defs>\r\n      <g transform=\"translate(282.289497 239.238437)scale(0.1 -0.1)\">\r\n       <use xlink:href=\"#DejaVuSans-56\"/>\r\n      </g>\r\n     </g>\r\n    </g>\r\n    <g id=\"xtick_6\">\r\n     <g id=\"line2d_6\">\r\n      <g>\r\n       <use style=\"stroke:#000000;stroke-width:0.8;\" x=\"346.234579\" xlink:href=\"#mb2b86064de\" y=\"224.64\"/>\r\n      </g>\r\n     </g>\r\n     <g id=\"text_6\">\r\n      <!-- 10 -->\r\n      <defs>\r\n       <path d=\"M 12.40625 8.296875 \r\nL 28.515625 8.296875 \r\nL 28.515625 63.921875 \r\nL 10.984375 60.40625 \r\nL 10.984375 69.390625 \r\nL 28.421875 72.90625 \r\nL 38.28125 72.90625 \r\nL 38.28125 8.296875 \r\nL 54.390625 8.296875 \r\nL 54.390625 0 \r\nL 12.40625 0 \r\nz\r\n\" id=\"DejaVuSans-49\"/>\r\n      </defs>\r\n      <g transform=\"translate(339.872079 239.238437)scale(0.1 -0.1)\">\r\n       <use xlink:href=\"#DejaVuSans-49\"/>\r\n       <use x=\"63.623047\" xlink:href=\"#DejaVuSans-48\"/>\r\n      </g>\r\n     </g>\r\n    </g>\r\n   </g>\r\n   <g id=\"matplotlib.axis_2\">\r\n    <g id=\"ytick_1\">\r\n     <g id=\"line2d_7\">\r\n      <defs>\r\n       <path d=\"M 0 0 \r\nL -3.5 0 \r\n\" id=\"m98e6e12ee3\" style=\"stroke:#000000;stroke-width:0.8;\"/>\r\n      </defs>\r\n      <g>\r\n       <use style=\"stroke:#000000;stroke-width:0.8;\" x=\"26.925\" xlink:href=\"#m98e6e12ee3\" y=\"206.804655\"/>\r\n      </g>\r\n     </g>\r\n     <g id=\"text_7\">\r\n      <!-- 0 -->\r\n      <g transform=\"translate(13.5625 210.603874)scale(0.1 -0.1)\">\r\n       <use xlink:href=\"#DejaVuSans-48\"/>\r\n      </g>\r\n     </g>\r\n    </g>\r\n    <g id=\"ytick_2\">\r\n     <g id=\"line2d_8\">\r\n      <g>\r\n       <use style=\"stroke:#000000;stroke-width:0.8;\" x=\"26.925\" xlink:href=\"#m98e6e12ee3\" y=\"179.537886\"/>\r\n      </g>\r\n     </g>\r\n     <g id=\"text_8\">\r\n      <!-- 5 -->\r\n      <defs>\r\n       <path d=\"M 10.796875 72.90625 \r\nL 49.515625 72.90625 \r\nL 49.515625 64.59375 \r\nL 19.828125 64.59375 \r\nL 19.828125 46.734375 \r\nQ 21.96875 47.46875 24.109375 47.828125 \r\nQ 26.265625 48.1875 28.421875 48.1875 \r\nQ 40.625 48.1875 47.75 41.5 \r\nQ 54.890625 34.8125 54.890625 23.390625 \r\nQ 54.890625 11.625 47.5625 5.09375 \r\nQ 40.234375 -1.421875 26.90625 -1.421875 \r\nQ 22.3125 -1.421875 17.546875 -0.640625 \r\nQ 12.796875 0.140625 7.71875 1.703125 \r\nL 7.71875 11.625 \r\nQ 12.109375 9.234375 16.796875 8.0625 \r\nQ 21.484375 6.890625 26.703125 6.890625 \r\nQ 35.15625 6.890625 40.078125 11.328125 \r\nQ 45.015625 15.765625 45.015625 23.390625 \r\nQ 45.015625 31 40.078125 35.4375 \r\nQ 35.15625 39.890625 26.703125 39.890625 \r\nQ 22.75 39.890625 18.8125 39.015625 \r\nQ 14.890625 38.140625 10.796875 36.28125 \r\nz\r\n\" id=\"DejaVuSans-53\"/>\r\n      </defs>\r\n      <g transform=\"translate(13.5625 183.337105)scale(0.1 -0.1)\">\r\n       <use xlink:href=\"#DejaVuSans-53\"/>\r\n      </g>\r\n     </g>\r\n    </g>\r\n    <g id=\"ytick_3\">\r\n     <g id=\"line2d_9\">\r\n      <g>\r\n       <use style=\"stroke:#000000;stroke-width:0.8;\" x=\"26.925\" xlink:href=\"#m98e6e12ee3\" y=\"152.271117\"/>\r\n      </g>\r\n     </g>\r\n     <g id=\"text_9\">\r\n      <!-- 10 -->\r\n      <g transform=\"translate(7.2 156.070335)scale(0.1 -0.1)\">\r\n       <use xlink:href=\"#DejaVuSans-49\"/>\r\n       <use x=\"63.623047\" xlink:href=\"#DejaVuSans-48\"/>\r\n      </g>\r\n     </g>\r\n    </g>\r\n    <g id=\"ytick_4\">\r\n     <g id=\"line2d_10\">\r\n      <g>\r\n       <use style=\"stroke:#000000;stroke-width:0.8;\" x=\"26.925\" xlink:href=\"#m98e6e12ee3\" y=\"125.004347\"/>\r\n      </g>\r\n     </g>\r\n     <g id=\"text_10\">\r\n      <!-- 15 -->\r\n      <g transform=\"translate(7.2 128.803566)scale(0.1 -0.1)\">\r\n       <use xlink:href=\"#DejaVuSans-49\"/>\r\n       <use x=\"63.623047\" xlink:href=\"#DejaVuSans-53\"/>\r\n      </g>\r\n     </g>\r\n    </g>\r\n    <g id=\"ytick_5\">\r\n     <g id=\"line2d_11\">\r\n      <g>\r\n       <use style=\"stroke:#000000;stroke-width:0.8;\" x=\"26.925\" xlink:href=\"#m98e6e12ee3\" y=\"97.737578\"/>\r\n      </g>\r\n     </g>\r\n     <g id=\"text_11\">\r\n      <!-- 20 -->\r\n      <g transform=\"translate(7.2 101.536797)scale(0.1 -0.1)\">\r\n       <use xlink:href=\"#DejaVuSans-50\"/>\r\n       <use x=\"63.623047\" xlink:href=\"#DejaVuSans-48\"/>\r\n      </g>\r\n     </g>\r\n    </g>\r\n    <g id=\"ytick_6\">\r\n     <g id=\"line2d_12\">\r\n      <g>\r\n       <use style=\"stroke:#000000;stroke-width:0.8;\" x=\"26.925\" xlink:href=\"#m98e6e12ee3\" y=\"70.470809\"/>\r\n      </g>\r\n     </g>\r\n     <g id=\"text_12\">\r\n      <!-- 25 -->\r\n      <g transform=\"translate(7.2 74.270028)scale(0.1 -0.1)\">\r\n       <use xlink:href=\"#DejaVuSans-50\"/>\r\n       <use x=\"63.623047\" xlink:href=\"#DejaVuSans-53\"/>\r\n      </g>\r\n     </g>\r\n    </g>\r\n    <g id=\"ytick_7\">\r\n     <g id=\"line2d_13\">\r\n      <g>\r\n       <use style=\"stroke:#000000;stroke-width:0.8;\" x=\"26.925\" xlink:href=\"#m98e6e12ee3\" y=\"43.20404\"/>\r\n      </g>\r\n     </g>\r\n     <g id=\"text_13\">\r\n      <!-- 30 -->\r\n      <defs>\r\n       <path d=\"M 40.578125 39.3125 \r\nQ 47.65625 37.796875 51.625 33 \r\nQ 55.609375 28.21875 55.609375 21.1875 \r\nQ 55.609375 10.40625 48.1875 4.484375 \r\nQ 40.765625 -1.421875 27.09375 -1.421875 \r\nQ 22.515625 -1.421875 17.65625 -0.515625 \r\nQ 12.796875 0.390625 7.625 2.203125 \r\nL 7.625 11.71875 \r\nQ 11.71875 9.328125 16.59375 8.109375 \r\nQ 21.484375 6.890625 26.8125 6.890625 \r\nQ 36.078125 6.890625 40.9375 10.546875 \r\nQ 45.796875 14.203125 45.796875 21.1875 \r\nQ 45.796875 27.640625 41.28125 31.265625 \r\nQ 36.765625 34.90625 28.71875 34.90625 \r\nL 20.21875 34.90625 \r\nL 20.21875 43.015625 \r\nL 29.109375 43.015625 \r\nQ 36.375 43.015625 40.234375 45.921875 \r\nQ 44.09375 48.828125 44.09375 54.296875 \r\nQ 44.09375 59.90625 40.109375 62.90625 \r\nQ 36.140625 65.921875 28.71875 65.921875 \r\nQ 24.65625 65.921875 20.015625 65.03125 \r\nQ 15.375 64.15625 9.8125 62.3125 \r\nL 9.8125 71.09375 \r\nQ 15.4375 72.65625 20.34375 73.4375 \r\nQ 25.25 74.21875 29.59375 74.21875 \r\nQ 40.828125 74.21875 47.359375 69.109375 \r\nQ 53.90625 64.015625 53.90625 55.328125 \r\nQ 53.90625 49.265625 50.4375 45.09375 \r\nQ 46.96875 40.921875 40.578125 39.3125 \r\nz\r\n\" id=\"DejaVuSans-51\"/>\r\n      </defs>\r\n      <g transform=\"translate(7.2 47.003258)scale(0.1 -0.1)\">\r\n       <use xlink:href=\"#DejaVuSans-51\"/>\r\n       <use x=\"63.623047\" xlink:href=\"#DejaVuSans-48\"/>\r\n      </g>\r\n     </g>\r\n    </g>\r\n    <g id=\"ytick_8\">\r\n     <g id=\"line2d_14\">\r\n      <g>\r\n       <use style=\"stroke:#000000;stroke-width:0.8;\" x=\"26.925\" xlink:href=\"#m98e6e12ee3\" y=\"15.93727\"/>\r\n      </g>\r\n     </g>\r\n     <g id=\"text_14\">\r\n      <!-- 35 -->\r\n      <g transform=\"translate(7.2 19.736489)scale(0.1 -0.1)\">\r\n       <use xlink:href=\"#DejaVuSans-51\"/>\r\n       <use x=\"63.623047\" xlink:href=\"#DejaVuSans-53\"/>\r\n      </g>\r\n     </g>\r\n    </g>\r\n   </g>\r\n   <g id=\"line2d_15\">\r\n    <path clip-path=\"url(#p7c03e0bf86)\" d=\"M 42.415421 214.756364 \r\nL 48.615812 213.58273 \r\nL 54.816203 212.409097 \r\nL 61.016594 211.235463 \r\nL 67.216985 210.06183 \r\nL 73.417376 208.888196 \r\nL 79.617767 207.714563 \r\nL 85.818158 206.540929 \r\nL 92.018549 205.367296 \r\nL 98.21894 204.193663 \r\nL 104.419331 203.020029 \r\nL 110.619722 201.846396 \r\nL 116.820113 200.672762 \r\nL 123.020504 199.499129 \r\nL 129.220895 198.325495 \r\nL 135.421286 197.151862 \r\nL 141.621677 195.978228 \r\nL 147.822068 194.804595 \r\nL 154.022459 193.630961 \r\nL 160.22285 192.457328 \r\nL 166.423241 191.283694 \r\nL 172.623632 190.110061 \r\nL 178.824023 188.936428 \r\nL 185.024414 187.762794 \r\nL 191.224805 186.589161 \r\nL 197.425195 185.415527 \r\nL 203.625586 184.241894 \r\nL 209.825977 183.06826 \r\nL 216.026368 181.894627 \r\nL 222.226759 180.720993 \r\nL 228.42715 179.54736 \r\nL 234.627541 178.373726 \r\nL 240.827932 177.200093 \r\nL 247.028323 176.02646 \r\nL 253.228714 174.852826 \r\nL 259.429105 173.679193 \r\nL 265.629496 172.505559 \r\nL 271.829887 171.331926 \r\nL 278.030278 170.158292 \r\nL 284.230669 168.984659 \r\nL 290.43106 167.811025 \r\nL 296.631451 166.637392 \r\nL 302.831842 165.463758 \r\nL 309.032233 164.290125 \r\nL 315.232624 163.116491 \r\nL 321.433015 161.942858 \r\nL 327.633406 160.769225 \r\nL 333.833797 159.595591 \r\nL 340.034188 158.421958 \r\nL 346.234579 157.248324 \r\n\" style=\"fill:none;stroke:#ffa500;stroke-linecap:square;stroke-width:1.5;\"/>\r\n   </g>\r\n   <g id=\"patch_3\">\r\n    <path d=\"M 26.925 224.64 \r\nL 26.925 7.2 \r\n\" style=\"fill:none;stroke:#000000;stroke-linecap:square;stroke-linejoin:miter;stroke-width:0.8;\"/>\r\n   </g>\r\n   <g id=\"patch_4\">\r\n    <path d=\"M 361.725 224.64 \r\nL 361.725 7.2 \r\n\" style=\"fill:none;stroke:#000000;stroke-linecap:square;stroke-linejoin:miter;stroke-width:0.8;\"/>\r\n   </g>\r\n   <g id=\"patch_5\">\r\n    <path d=\"M 26.925 224.64 \r\nL 361.725 224.64 \r\n\" style=\"fill:none;stroke:#000000;stroke-linecap:square;stroke-linejoin:miter;stroke-width:0.8;\"/>\r\n   </g>\r\n   <g id=\"patch_6\">\r\n    <path d=\"M 26.925 7.2 \r\nL 361.725 7.2 \r\n\" style=\"fill:none;stroke:#000000;stroke-linecap:square;stroke-linejoin:miter;stroke-width:0.8;\"/>\r\n   </g>\r\n  </g>\r\n </g>\r\n <defs>\r\n  <clipPath id=\"p7c03e0bf86\">\r\n   <rect height=\"217.44\" width=\"334.8\" x=\"26.925\" y=\"7.2\"/>\r\n  </clipPath>\r\n </defs>\r\n</svg>\r\n",
      "image/png": "[encoded data removed]"
     },
     "metadata": {
      "needs_background": "light"
     }
    }
   ],
   "source": [
    "np.random.RandomState(seed=42)\n",
    "\n",
    "N = 50\n",
    "\n",
    "X = np.linspace(0, 10, N)\n",
    "y = 0.5*X + np.random.randn(N)\n",
    "\n",
    "y[-1] += 30\n",
    "y[-2] += 30\n",
    "\n",
    "model = LinearRegression(fit_intercept=True)\n",
    "model.fit(X[:, np.newaxis], y)\n",
    "\n",
    "X_plot = X\n",
    "y_plot = model.predict(X_plot[:, np.newaxis])\n",
    "\n",
    "plt.scatter(X, y)\n",
    "plt.plot(X_plot, y_plot, c='orange');"
   ]
  },
  {
   "cell_type": "markdown",
   "metadata": {},
   "source": [
    "The outliers have dragged our regression line off of the cluster. One way to address this is to add an additional, weighted term to the [ordinary least squares](https://en.wikipedia.org/wiki/Ordinary_least_squares) equation that we used to calculate our regression line. Tuning this weight parameter for this additional term will help our regression put less emphasis on the outlying points and greater emphasis on the well-clustered points. The specific technique we'll use for this is called [ridge regression](https://en.wikipedia.org/wiki/Tikhonov_regularization) (also referred to as L2 regularization, which is how you will see it in Azure machine learning).\n",
    "\n",
    "Let's try this again using ridge regression."
   ]
  },
  {
   "cell_type": "code",
   "execution_count": 6,
   "metadata": {},
   "outputs": [
    {
     "output_type": "display_data",
     "data": {
      "text/plain": "<Figure size 432x288 with 1 Axes>",
      "image/svg+xml": "<?xml version=\"1.0\" encoding=\"utf-8\" standalone=\"no\"?>\r\n<!DOCTYPE svg PUBLIC \"-//W3C//DTD SVG 1.1//EN\"\r\n  \"http://www.w3.org/Graphics/SVG/1.1/DTD/svg11.dtd\">\r\n<!-- Created with matplotlib (https://matplotlib.org/) -->\r\n<svg height=\"248.518125pt\" version=\"1.1\" viewBox=\"0 0 368.925 248.518125\" width=\"368.925pt\" xmlns=\"http://www.w3.org/2000/svg\" xmlns:xlink=\"http://www.w3.org/1999/xlink\">\r\n <defs>\r\n  <style type=\"text/css\">\r\n*{stroke-linecap:butt;stroke-linejoin:round;}\r\n  </style>\r\n </defs>\r\n <g id=\"figure_1\">\r\n  <g id=\"patch_1\">\r\n   <path d=\"M -0 248.518125 \r\nL 368.925 248.518125 \r\nL 368.925 0 \r\nL -0 0 \r\nz\r\n\" style=\"fill:none;\"/>\r\n  </g>\r\n  <g id=\"axes_1\">\r\n   <g id=\"patch_2\">\r\n    <path d=\"M 26.925 224.64 \r\nL 361.725 224.64 \r\nL 361.725 7.2 \r\nL 26.925 7.2 \r\nz\r\n\" style=\"fill:#ffffff;\"/>\r\n   </g>\r\n   <g id=\"PathCollection_1\">\r\n    <defs>\r\n     <path d=\"M 0 3 \r\nC 0.795609 3 1.55874 2.683901 2.12132 2.12132 \r\nC 2.683901 1.55874 3 0.795609 3 0 \r\nC 3 -0.795609 2.683901 -1.55874 2.12132 -2.12132 \r\nC 1.55874 -2.683901 0.795609 -3 0 -3 \r\nC -0.795609 -3 -1.55874 -2.683901 -2.12132 -2.12132 \r\nC -2.683901 -1.55874 -3 -0.795609 -3 0 \r\nC -3 0.795609 -2.683901 1.55874 -2.12132 2.12132 \r\nC -1.55874 2.683901 -0.795609 3 0 3 \r\nz\r\n\" id=\"ma2bd7437d3\" style=\"stroke:#1f77b4;\"/>\r\n    </defs>\r\n    <g clip-path=\"url(#p656f7b6e9b)\">\r\n     <use style=\"fill:#1f77b4;stroke:#1f77b4;\" x=\"42.415421\" xlink:href=\"#ma2bd7437d3\" y=\"204.48885\"/>\r\n     <use style=\"fill:#1f77b4;stroke:#1f77b4;\" x=\"48.615812\" xlink:href=\"#ma2bd7437d3\" y=\"202.693055\"/>\r\n     <use style=\"fill:#1f77b4;stroke:#1f77b4;\" x=\"54.816203\" xlink:href=\"#ma2bd7437d3\" y=\"199.009984\"/>\r\n     <use style=\"fill:#1f77b4;stroke:#1f77b4;\" x=\"61.016594\" xlink:href=\"#ma2bd7437d3\" y=\"210.894337\"/>\r\n     <use style=\"fill:#1f77b4;stroke:#1f77b4;\" x=\"67.216985\" xlink:href=\"#ma2bd7437d3\" y=\"207.605226\"/>\r\n     <use style=\"fill:#1f77b4;stroke:#1f77b4;\" x=\"73.417376\" xlink:href=\"#ma2bd7437d3\" y=\"194.129604\"/>\r\n     <use style=\"fill:#1f77b4;stroke:#1f77b4;\" x=\"79.617767\" xlink:href=\"#ma2bd7437d3\" y=\"191.925299\"/>\r\n     <use style=\"fill:#1f77b4;stroke:#1f77b4;\" x=\"85.818158\" xlink:href=\"#ma2bd7437d3\" y=\"201.771759\"/>\r\n     <use style=\"fill:#1f77b4;stroke:#1f77b4;\" x=\"92.018549\" xlink:href=\"#ma2bd7437d3\" y=\"199.161262\"/>\r\n     <use style=\"fill:#1f77b4;stroke:#1f77b4;\" x=\"98.21894\" xlink:href=\"#ma2bd7437d3\" y=\"195.836187\"/>\r\n     <use style=\"fill:#1f77b4;stroke:#1f77b4;\" x=\"104.419331\" xlink:href=\"#ma2bd7437d3\" y=\"206.951892\"/>\r\n     <use style=\"fill:#1f77b4;stroke:#1f77b4;\" x=\"110.619722\" xlink:href=\"#ma2bd7437d3\" y=\"203.175495\"/>\r\n     <use style=\"fill:#1f77b4;stroke:#1f77b4;\" x=\"116.820113\" xlink:href=\"#ma2bd7437d3\" y=\"198.090962\"/>\r\n     <use style=\"fill:#1f77b4;stroke:#1f77b4;\" x=\"123.020504\" xlink:href=\"#ma2bd7437d3\" y=\"191.47281\"/>\r\n     <use style=\"fill:#1f77b4;stroke:#1f77b4;\" x=\"129.220895\" xlink:href=\"#ma2bd7437d3\" y=\"192.762215\"/>\r\n     <use style=\"fill:#1f77b4;stroke:#1f77b4;\" x=\"135.421286\" xlink:href=\"#ma2bd7437d3\" y=\"197.53084\"/>\r\n     <use style=\"fill:#1f77b4;stroke:#1f77b4;\" x=\"141.621677\" xlink:href=\"#ma2bd7437d3\" y=\"190.386785\"/>\r\n     <use style=\"fill:#1f77b4;stroke:#1f77b4;\" x=\"147.822068\" xlink:href=\"#ma2bd7437d3\" y=\"198.23564\"/>\r\n     <use style=\"fill:#1f77b4;stroke:#1f77b4;\" x=\"154.022459\" xlink:href=\"#ma2bd7437d3\" y=\"194.632696\"/>\r\n     <use style=\"fill:#1f77b4;stroke:#1f77b4;\" x=\"160.22285\" xlink:href=\"#ma2bd7437d3\" y=\"191.397251\"/>\r\n     <use style=\"fill:#1f77b4;stroke:#1f77b4;\" x=\"166.423241\" xlink:href=\"#ma2bd7437d3\" y=\"188.054649\"/>\r\n     <use style=\"fill:#1f77b4;stroke:#1f77b4;\" x=\"172.623632\" xlink:href=\"#ma2bd7437d3\" y=\"196.554149\"/>\r\n     <use style=\"fill:#1f77b4;stroke:#1f77b4;\" x=\"178.824023\" xlink:href=\"#ma2bd7437d3\" y=\"188.543015\"/>\r\n     <use style=\"fill:#1f77b4;stroke:#1f77b4;\" x=\"185.024414\" xlink:href=\"#ma2bd7437d3\" y=\"185.8491\"/>\r\n     <use style=\"fill:#1f77b4;stroke:#1f77b4;\" x=\"191.224805\" xlink:href=\"#ma2bd7437d3\" y=\"192.565619\"/>\r\n     <use style=\"fill:#1f77b4;stroke:#1f77b4;\" x=\"197.425195\" xlink:href=\"#ma2bd7437d3\" y=\"185.871339\"/>\r\n     <use style=\"fill:#1f77b4;stroke:#1f77b4;\" x=\"203.625586\" xlink:href=\"#ma2bd7437d3\" y=\"198.218578\"/>\r\n     <use style=\"fill:#1f77b4;stroke:#1f77b4;\" x=\"209.825977\" xlink:href=\"#ma2bd7437d3\" y=\"196.95604\"/>\r\n     <use style=\"fill:#1f77b4;stroke:#1f77b4;\" x=\"216.026368\" xlink:href=\"#ma2bd7437d3\" y=\"189.122593\"/>\r\n     <use style=\"fill:#1f77b4;stroke:#1f77b4;\" x=\"222.226759\" xlink:href=\"#ma2bd7437d3\" y=\"196.96329\"/>\r\n     <use style=\"fill:#1f77b4;stroke:#1f77b4;\" x=\"228.42715\" xlink:href=\"#ma2bd7437d3\" y=\"194.141532\"/>\r\n     <use style=\"fill:#1f77b4;stroke:#1f77b4;\" x=\"234.627541\" xlink:href=\"#ma2bd7437d3\" y=\"200.067065\"/>\r\n     <use style=\"fill:#1f77b4;stroke:#1f77b4;\" x=\"240.827932\" xlink:href=\"#ma2bd7437d3\" y=\"195.749055\"/>\r\n     <use style=\"fill:#1f77b4;stroke:#1f77b4;\" x=\"247.028323\" xlink:href=\"#ma2bd7437d3\" y=\"188.75482\"/>\r\n     <use style=\"fill:#1f77b4;stroke:#1f77b4;\" x=\"253.228714\" xlink:href=\"#ma2bd7437d3\" y=\"186.476317\"/>\r\n     <use style=\"fill:#1f77b4;stroke:#1f77b4;\" x=\"259.429105\" xlink:href=\"#ma2bd7437d3\" y=\"183.603353\"/>\r\n     <use style=\"fill:#1f77b4;stroke:#1f77b4;\" x=\"265.629496\" xlink:href=\"#ma2bd7437d3\" y=\"188.750816\"/>\r\n     <use style=\"fill:#1f77b4;stroke:#1f77b4;\" x=\"271.829887\" xlink:href=\"#ma2bd7437d3\" y=\"187.720749\"/>\r\n     <use style=\"fill:#1f77b4;stroke:#1f77b4;\" x=\"278.030278\" xlink:href=\"#ma2bd7437d3\" y=\"189.962831\"/>\r\n     <use style=\"fill:#1f77b4;stroke:#1f77b4;\" x=\"284.230669\" xlink:href=\"#ma2bd7437d3\" y=\"182.978187\"/>\r\n     <use style=\"fill:#1f77b4;stroke:#1f77b4;\" x=\"290.43106\" xlink:href=\"#ma2bd7437d3\" y=\"182.291872\"/>\r\n     <use style=\"fill:#1f77b4;stroke:#1f77b4;\" x=\"296.631451\" xlink:href=\"#ma2bd7437d3\" y=\"190.620149\"/>\r\n     <use style=\"fill:#1f77b4;stroke:#1f77b4;\" x=\"302.831842\" xlink:href=\"#ma2bd7437d3\" y=\"190.241054\"/>\r\n     <use style=\"fill:#1f77b4;stroke:#1f77b4;\" x=\"309.032233\" xlink:href=\"#ma2bd7437d3\" y=\"188.987068\"/>\r\n     <use style=\"fill:#1f77b4;stroke:#1f77b4;\" x=\"315.232624\" xlink:href=\"#ma2bd7437d3\" y=\"188.078106\"/>\r\n     <use style=\"fill:#1f77b4;stroke:#1f77b4;\" x=\"321.433015\" xlink:href=\"#ma2bd7437d3\" y=\"185.010157\"/>\r\n     <use style=\"fill:#1f77b4;stroke:#1f77b4;\" x=\"327.633406\" xlink:href=\"#ma2bd7437d3\" y=\"171.310849\"/>\r\n     <use style=\"fill:#1f77b4;stroke:#1f77b4;\" x=\"333.833797\" xlink:href=\"#ma2bd7437d3\" y=\"174.483458\"/>\r\n     <use style=\"fill:#1f77b4;stroke:#1f77b4;\" x=\"340.034188\" xlink:href=\"#ma2bd7437d3\" y=\"17.158876\"/>\r\n     <use style=\"fill:#1f77b4;stroke:#1f77b4;\" x=\"346.234579\" xlink:href=\"#ma2bd7437d3\" y=\"22.880362\"/>\r\n    </g>\r\n   </g>\r\n   <g id=\"matplotlib.axis_1\">\r\n    <g id=\"xtick_1\">\r\n     <g id=\"line2d_1\">\r\n      <defs>\r\n       <path d=\"M 0 0 \r\nL 0 3.5 \r\n\" id=\"mf662998661\" style=\"stroke:#000000;stroke-width:0.8;\"/>\r\n      </defs>\r\n      <g>\r\n       <use style=\"stroke:#000000;stroke-width:0.8;\" x=\"42.415421\" xlink:href=\"#mf662998661\" y=\"224.64\"/>\r\n      </g>\r\n     </g>\r\n     <g id=\"text_1\">\r\n      <!-- 0 -->\r\n      <defs>\r\n       <path d=\"M 31.78125 66.40625 \r\nQ 24.171875 66.40625 20.328125 58.90625 \r\nQ 16.5 51.421875 16.5 36.375 \r\nQ 16.5 21.390625 20.328125 13.890625 \r\nQ 24.171875 6.390625 31.78125 6.390625 \r\nQ 39.453125 6.390625 43.28125 13.890625 \r\nQ 47.125 21.390625 47.125 36.375 \r\nQ 47.125 51.421875 43.28125 58.90625 \r\nQ 39.453125 66.40625 31.78125 66.40625 \r\nz\r\nM 31.78125 74.21875 \r\nQ 44.046875 74.21875 50.515625 64.515625 \r\nQ 56.984375 54.828125 56.984375 36.375 \r\nQ 56.984375 17.96875 50.515625 8.265625 \r\nQ 44.046875 -1.421875 31.78125 -1.421875 \r\nQ 19.53125 -1.421875 13.0625 8.265625 \r\nQ 6.59375 17.96875 6.59375 36.375 \r\nQ 6.59375 54.828125 13.0625 64.515625 \r\nQ 19.53125 74.21875 31.78125 74.21875 \r\nz\r\n\" id=\"DejaVuSans-48\"/>\r\n      </defs>\r\n      <g transform=\"translate(39.234171 239.238437)scale(0.1 -0.1)\">\r\n       <use xlink:href=\"#DejaVuSans-48\"/>\r\n      </g>\r\n     </g>\r\n    </g>\r\n    <g id=\"xtick_2\">\r\n     <g id=\"line2d_2\">\r\n      <g>\r\n       <use style=\"stroke:#000000;stroke-width:0.8;\" x=\"103.179253\" xlink:href=\"#mf662998661\" y=\"224.64\"/>\r\n      </g>\r\n     </g>\r\n     <g id=\"text_2\">\r\n      <!-- 2 -->\r\n      <defs>\r\n       <path d=\"M 19.1875 8.296875 \r\nL 53.609375 8.296875 \r\nL 53.609375 0 \r\nL 7.328125 0 \r\nL 7.328125 8.296875 \r\nQ 12.9375 14.109375 22.625 23.890625 \r\nQ 32.328125 33.6875 34.8125 36.53125 \r\nQ 39.546875 41.84375 41.421875 45.53125 \r\nQ 43.3125 49.21875 43.3125 52.78125 \r\nQ 43.3125 58.59375 39.234375 62.25 \r\nQ 35.15625 65.921875 28.609375 65.921875 \r\nQ 23.96875 65.921875 18.8125 64.3125 \r\nQ 13.671875 62.703125 7.8125 59.421875 \r\nL 7.8125 69.390625 \r\nQ 13.765625 71.78125 18.9375 73 \r\nQ 24.125 74.21875 28.421875 74.21875 \r\nQ 39.75 74.21875 46.484375 68.546875 \r\nQ 53.21875 62.890625 53.21875 53.421875 \r\nQ 53.21875 48.921875 51.53125 44.890625 \r\nQ 49.859375 40.875 45.40625 35.40625 \r\nQ 44.1875 33.984375 37.640625 27.21875 \r\nQ 31.109375 20.453125 19.1875 8.296875 \r\nz\r\n\" id=\"DejaVuSans-50\"/>\r\n      </defs>\r\n      <g transform=\"translate(99.998003 239.238437)scale(0.1 -0.1)\">\r\n       <use xlink:href=\"#DejaVuSans-50\"/>\r\n      </g>\r\n     </g>\r\n    </g>\r\n    <g id=\"xtick_3\">\r\n     <g id=\"line2d_3\">\r\n      <g>\r\n       <use style=\"stroke:#000000;stroke-width:0.8;\" x=\"163.943084\" xlink:href=\"#mf662998661\" y=\"224.64\"/>\r\n      </g>\r\n     </g>\r\n     <g id=\"text_3\">\r\n      <!-- 4 -->\r\n      <defs>\r\n       <path d=\"M 37.796875 64.3125 \r\nL 12.890625 25.390625 \r\nL 37.796875 25.390625 \r\nz\r\nM 35.203125 72.90625 \r\nL 47.609375 72.90625 \r\nL 47.609375 25.390625 \r\nL 58.015625 25.390625 \r\nL 58.015625 17.1875 \r\nL 47.609375 17.1875 \r\nL 47.609375 0 \r\nL 37.796875 0 \r\nL 37.796875 17.1875 \r\nL 4.890625 17.1875 \r\nL 4.890625 26.703125 \r\nz\r\n\" id=\"DejaVuSans-52\"/>\r\n      </defs>\r\n      <g transform=\"translate(160.761834 239.238437)scale(0.1 -0.1)\">\r\n       <use xlink:href=\"#DejaVuSans-52\"/>\r\n      </g>\r\n     </g>\r\n    </g>\r\n    <g id=\"xtick_4\">\r\n     <g id=\"line2d_4\">\r\n      <g>\r\n       <use style=\"stroke:#000000;stroke-width:0.8;\" x=\"224.706916\" xlink:href=\"#mf662998661\" y=\"224.64\"/>\r\n      </g>\r\n     </g>\r\n     <g id=\"text_4\">\r\n      <!-- 6 -->\r\n      <defs>\r\n       <path d=\"M 33.015625 40.375 \r\nQ 26.375 40.375 22.484375 35.828125 \r\nQ 18.609375 31.296875 18.609375 23.390625 \r\nQ 18.609375 15.53125 22.484375 10.953125 \r\nQ 26.375 6.390625 33.015625 6.390625 \r\nQ 39.65625 6.390625 43.53125 10.953125 \r\nQ 47.40625 15.53125 47.40625 23.390625 \r\nQ 47.40625 31.296875 43.53125 35.828125 \r\nQ 39.65625 40.375 33.015625 40.375 \r\nz\r\nM 52.59375 71.296875 \r\nL 52.59375 62.3125 \r\nQ 48.875 64.0625 45.09375 64.984375 \r\nQ 41.3125 65.921875 37.59375 65.921875 \r\nQ 27.828125 65.921875 22.671875 59.328125 \r\nQ 17.53125 52.734375 16.796875 39.40625 \r\nQ 19.671875 43.65625 24.015625 45.921875 \r\nQ 28.375 48.1875 33.59375 48.1875 \r\nQ 44.578125 48.1875 50.953125 41.515625 \r\nQ 57.328125 34.859375 57.328125 23.390625 \r\nQ 57.328125 12.15625 50.6875 5.359375 \r\nQ 44.046875 -1.421875 33.015625 -1.421875 \r\nQ 20.359375 -1.421875 13.671875 8.265625 \r\nQ 6.984375 17.96875 6.984375 36.375 \r\nQ 6.984375 53.65625 15.1875 63.9375 \r\nQ 23.390625 74.21875 37.203125 74.21875 \r\nQ 40.921875 74.21875 44.703125 73.484375 \r\nQ 48.484375 72.75 52.59375 71.296875 \r\nz\r\n\" id=\"DejaVuSans-54\"/>\r\n      </defs>\r\n      <g transform=\"translate(221.525666 239.238437)scale(0.1 -0.1)\">\r\n       <use xlink:href=\"#DejaVuSans-54\"/>\r\n      </g>\r\n     </g>\r\n    </g>\r\n    <g id=\"xtick_5\">\r\n     <g id=\"line2d_5\">\r\n      <g>\r\n       <use style=\"stroke:#000000;stroke-width:0.8;\" x=\"285.470747\" xlink:href=\"#mf662998661\" y=\"224.64\"/>\r\n      </g>\r\n     </g>\r\n     <g id=\"text_5\">\r\n      <!-- 8 -->\r\n      <defs>\r\n       <path d=\"M 31.78125 34.625 \r\nQ 24.75 34.625 20.71875 30.859375 \r\nQ 16.703125 27.09375 16.703125 20.515625 \r\nQ 16.703125 13.921875 20.71875 10.15625 \r\nQ 24.75 6.390625 31.78125 6.390625 \r\nQ 38.8125 6.390625 42.859375 10.171875 \r\nQ 46.921875 13.96875 46.921875 20.515625 \r\nQ 46.921875 27.09375 42.890625 30.859375 \r\nQ 38.875 34.625 31.78125 34.625 \r\nz\r\nM 21.921875 38.8125 \r\nQ 15.578125 40.375 12.03125 44.71875 \r\nQ 8.5 49.078125 8.5 55.328125 \r\nQ 8.5 64.0625 14.71875 69.140625 \r\nQ 20.953125 74.21875 31.78125 74.21875 \r\nQ 42.671875 74.21875 48.875 69.140625 \r\nQ 55.078125 64.0625 55.078125 55.328125 \r\nQ 55.078125 49.078125 51.53125 44.71875 \r\nQ 48 40.375 41.703125 38.8125 \r\nQ 48.828125 37.15625 52.796875 32.3125 \r\nQ 56.78125 27.484375 56.78125 20.515625 \r\nQ 56.78125 9.90625 50.3125 4.234375 \r\nQ 43.84375 -1.421875 31.78125 -1.421875 \r\nQ 19.734375 -1.421875 13.25 4.234375 \r\nQ 6.78125 9.90625 6.78125 20.515625 \r\nQ 6.78125 27.484375 10.78125 32.3125 \r\nQ 14.796875 37.15625 21.921875 38.8125 \r\nz\r\nM 18.3125 54.390625 \r\nQ 18.3125 48.734375 21.84375 45.5625 \r\nQ 25.390625 42.390625 31.78125 42.390625 \r\nQ 38.140625 42.390625 41.71875 45.5625 \r\nQ 45.3125 48.734375 45.3125 54.390625 \r\nQ 45.3125 60.0625 41.71875 63.234375 \r\nQ 38.140625 66.40625 31.78125 66.40625 \r\nQ 25.390625 66.40625 21.84375 63.234375 \r\nQ 18.3125 60.0625 18.3125 54.390625 \r\nz\r\n\" id=\"DejaVuSans-56\"/>\r\n      </defs>\r\n      <g transform=\"translate(282.289497 239.238437)scale(0.1 -0.1)\">\r\n       <use xlink:href=\"#DejaVuSans-56\"/>\r\n      </g>\r\n     </g>\r\n    </g>\r\n    <g id=\"xtick_6\">\r\n     <g id=\"line2d_6\">\r\n      <g>\r\n       <use style=\"stroke:#000000;stroke-width:0.8;\" x=\"346.234579\" xlink:href=\"#mf662998661\" y=\"224.64\"/>\r\n      </g>\r\n     </g>\r\n     <g id=\"text_6\">\r\n      <!-- 10 -->\r\n      <defs>\r\n       <path d=\"M 12.40625 8.296875 \r\nL 28.515625 8.296875 \r\nL 28.515625 63.921875 \r\nL 10.984375 60.40625 \r\nL 10.984375 69.390625 \r\nL 28.421875 72.90625 \r\nL 38.28125 72.90625 \r\nL 38.28125 8.296875 \r\nL 54.390625 8.296875 \r\nL 54.390625 0 \r\nL 12.40625 0 \r\nz\r\n\" id=\"DejaVuSans-49\"/>\r\n      </defs>\r\n      <g transform=\"translate(339.872079 239.238437)scale(0.1 -0.1)\">\r\n       <use xlink:href=\"#DejaVuSans-49\"/>\r\n       <use x=\"63.623047\" xlink:href=\"#DejaVuSans-48\"/>\r\n      </g>\r\n     </g>\r\n    </g>\r\n   </g>\r\n   <g id=\"matplotlib.axis_2\">\r\n    <g id=\"ytick_1\">\r\n     <g id=\"line2d_7\">\r\n      <defs>\r\n       <path d=\"M 0 0 \r\nL -3.5 0 \r\n\" id=\"m249e19a03c\" style=\"stroke:#000000;stroke-width:0.8;\"/>\r\n      </defs>\r\n      <g>\r\n       <use style=\"stroke:#000000;stroke-width:0.8;\" x=\"26.925\" xlink:href=\"#m249e19a03c\" y=\"206.804655\"/>\r\n      </g>\r\n     </g>\r\n     <g id=\"text_7\">\r\n      <!-- 0 -->\r\n      <g transform=\"translate(13.5625 210.603874)scale(0.1 -0.1)\">\r\n       <use xlink:href=\"#DejaVuSans-48\"/>\r\n      </g>\r\n     </g>\r\n    </g>\r\n    <g id=\"ytick_2\">\r\n     <g id=\"line2d_8\">\r\n      <g>\r\n       <use style=\"stroke:#000000;stroke-width:0.8;\" x=\"26.925\" xlink:href=\"#m249e19a03c\" y=\"179.537886\"/>\r\n      </g>\r\n     </g>\r\n     <g id=\"text_8\">\r\n      <!-- 5 -->\r\n      <defs>\r\n       <path d=\"M 10.796875 72.90625 \r\nL 49.515625 72.90625 \r\nL 49.515625 64.59375 \r\nL 19.828125 64.59375 \r\nL 19.828125 46.734375 \r\nQ 21.96875 47.46875 24.109375 47.828125 \r\nQ 26.265625 48.1875 28.421875 48.1875 \r\nQ 40.625 48.1875 47.75 41.5 \r\nQ 54.890625 34.8125 54.890625 23.390625 \r\nQ 54.890625 11.625 47.5625 5.09375 \r\nQ 40.234375 -1.421875 26.90625 -1.421875 \r\nQ 22.3125 -1.421875 17.546875 -0.640625 \r\nQ 12.796875 0.140625 7.71875 1.703125 \r\nL 7.71875 11.625 \r\nQ 12.109375 9.234375 16.796875 8.0625 \r\nQ 21.484375 6.890625 26.703125 6.890625 \r\nQ 35.15625 6.890625 40.078125 11.328125 \r\nQ 45.015625 15.765625 45.015625 23.390625 \r\nQ 45.015625 31 40.078125 35.4375 \r\nQ 35.15625 39.890625 26.703125 39.890625 \r\nQ 22.75 39.890625 18.8125 39.015625 \r\nQ 14.890625 38.140625 10.796875 36.28125 \r\nz\r\n\" id=\"DejaVuSans-53\"/>\r\n      </defs>\r\n      <g transform=\"translate(13.5625 183.337105)scale(0.1 -0.1)\">\r\n       <use xlink:href=\"#DejaVuSans-53\"/>\r\n      </g>\r\n     </g>\r\n    </g>\r\n    <g id=\"ytick_3\">\r\n     <g id=\"line2d_9\">\r\n      <g>\r\n       <use style=\"stroke:#000000;stroke-width:0.8;\" x=\"26.925\" xlink:href=\"#m249e19a03c\" y=\"152.271117\"/>\r\n      </g>\r\n     </g>\r\n     <g id=\"text_9\">\r\n      <!-- 10 -->\r\n      <g transform=\"translate(7.2 156.070335)scale(0.1 -0.1)\">\r\n       <use xlink:href=\"#DejaVuSans-49\"/>\r\n       <use x=\"63.623047\" xlink:href=\"#DejaVuSans-48\"/>\r\n      </g>\r\n     </g>\r\n    </g>\r\n    <g id=\"ytick_4\">\r\n     <g id=\"line2d_10\">\r\n      <g>\r\n       <use style=\"stroke:#000000;stroke-width:0.8;\" x=\"26.925\" xlink:href=\"#m249e19a03c\" y=\"125.004347\"/>\r\n      </g>\r\n     </g>\r\n     <g id=\"text_10\">\r\n      <!-- 15 -->\r\n      <g transform=\"translate(7.2 128.803566)scale(0.1 -0.1)\">\r\n       <use xlink:href=\"#DejaVuSans-49\"/>\r\n       <use x=\"63.623047\" xlink:href=\"#DejaVuSans-53\"/>\r\n      </g>\r\n     </g>\r\n    </g>\r\n    <g id=\"ytick_5\">\r\n     <g id=\"line2d_11\">\r\n      <g>\r\n       <use style=\"stroke:#000000;stroke-width:0.8;\" x=\"26.925\" xlink:href=\"#m249e19a03c\" y=\"97.737578\"/>\r\n      </g>\r\n     </g>\r\n     <g id=\"text_11\">\r\n      <!-- 20 -->\r\n      <g transform=\"translate(7.2 101.536797)scale(0.1 -0.1)\">\r\n       <use xlink:href=\"#DejaVuSans-50\"/>\r\n       <use x=\"63.623047\" xlink:href=\"#DejaVuSans-48\"/>\r\n      </g>\r\n     </g>\r\n    </g>\r\n    <g id=\"ytick_6\">\r\n     <g id=\"line2d_12\">\r\n      <g>\r\n       <use style=\"stroke:#000000;stroke-width:0.8;\" x=\"26.925\" xlink:href=\"#m249e19a03c\" y=\"70.470809\"/>\r\n      </g>\r\n     </g>\r\n     <g id=\"text_12\">\r\n      <!-- 25 -->\r\n      <g transform=\"translate(7.2 74.270028)scale(0.1 -0.1)\">\r\n       <use xlink:href=\"#DejaVuSans-50\"/>\r\n       <use x=\"63.623047\" xlink:href=\"#DejaVuSans-53\"/>\r\n      </g>\r\n     </g>\r\n    </g>\r\n    <g id=\"ytick_7\">\r\n     <g id=\"line2d_13\">\r\n      <g>\r\n       <use style=\"stroke:#000000;stroke-width:0.8;\" x=\"26.925\" xlink:href=\"#m249e19a03c\" y=\"43.20404\"/>\r\n      </g>\r\n     </g>\r\n     <g id=\"text_13\">\r\n      <!-- 30 -->\r\n      <defs>\r\n       <path d=\"M 40.578125 39.3125 \r\nQ 47.65625 37.796875 51.625 33 \r\nQ 55.609375 28.21875 55.609375 21.1875 \r\nQ 55.609375 10.40625 48.1875 4.484375 \r\nQ 40.765625 -1.421875 27.09375 -1.421875 \r\nQ 22.515625 -1.421875 17.65625 -0.515625 \r\nQ 12.796875 0.390625 7.625 2.203125 \r\nL 7.625 11.71875 \r\nQ 11.71875 9.328125 16.59375 8.109375 \r\nQ 21.484375 6.890625 26.8125 6.890625 \r\nQ 36.078125 6.890625 40.9375 10.546875 \r\nQ 45.796875 14.203125 45.796875 21.1875 \r\nQ 45.796875 27.640625 41.28125 31.265625 \r\nQ 36.765625 34.90625 28.71875 34.90625 \r\nL 20.21875 34.90625 \r\nL 20.21875 43.015625 \r\nL 29.109375 43.015625 \r\nQ 36.375 43.015625 40.234375 45.921875 \r\nQ 44.09375 48.828125 44.09375 54.296875 \r\nQ 44.09375 59.90625 40.109375 62.90625 \r\nQ 36.140625 65.921875 28.71875 65.921875 \r\nQ 24.65625 65.921875 20.015625 65.03125 \r\nQ 15.375 64.15625 9.8125 62.3125 \r\nL 9.8125 71.09375 \r\nQ 15.4375 72.65625 20.34375 73.4375 \r\nQ 25.25 74.21875 29.59375 74.21875 \r\nQ 40.828125 74.21875 47.359375 69.109375 \r\nQ 53.90625 64.015625 53.90625 55.328125 \r\nQ 53.90625 49.265625 50.4375 45.09375 \r\nQ 46.96875 40.921875 40.578125 39.3125 \r\nz\r\n\" id=\"DejaVuSans-51\"/>\r\n      </defs>\r\n      <g transform=\"translate(7.2 47.003258)scale(0.1 -0.1)\">\r\n       <use xlink:href=\"#DejaVuSans-51\"/>\r\n       <use x=\"63.623047\" xlink:href=\"#DejaVuSans-48\"/>\r\n      </g>\r\n     </g>\r\n    </g>\r\n    <g id=\"ytick_8\">\r\n     <g id=\"line2d_14\">\r\n      <g>\r\n       <use style=\"stroke:#000000;stroke-width:0.8;\" x=\"26.925\" xlink:href=\"#m249e19a03c\" y=\"15.93727\"/>\r\n      </g>\r\n     </g>\r\n     <g id=\"text_14\">\r\n      <!-- 35 -->\r\n      <g transform=\"translate(7.2 19.736489)scale(0.1 -0.1)\">\r\n       <use xlink:href=\"#DejaVuSans-51\"/>\r\n       <use x=\"63.623047\" xlink:href=\"#DejaVuSans-53\"/>\r\n      </g>\r\n     </g>\r\n    </g>\r\n   </g>\r\n   <g id=\"line2d_15\">\r\n    <path clip-path=\"url(#p656f7b6e9b)\" d=\"M 42.415421 214.756364 \r\nL 48.615812 213.58273 \r\nL 54.816203 212.409097 \r\nL 61.016594 211.235463 \r\nL 67.216985 210.06183 \r\nL 73.417376 208.888196 \r\nL 79.617767 207.714563 \r\nL 85.818158 206.540929 \r\nL 92.018549 205.367296 \r\nL 98.21894 204.193663 \r\nL 104.419331 203.020029 \r\nL 110.619722 201.846396 \r\nL 116.820113 200.672762 \r\nL 123.020504 199.499129 \r\nL 129.220895 198.325495 \r\nL 135.421286 197.151862 \r\nL 141.621677 195.978228 \r\nL 147.822068 194.804595 \r\nL 154.022459 193.630961 \r\nL 160.22285 192.457328 \r\nL 166.423241 191.283694 \r\nL 172.623632 190.110061 \r\nL 178.824023 188.936428 \r\nL 185.024414 187.762794 \r\nL 191.224805 186.589161 \r\nL 197.425195 185.415527 \r\nL 203.625586 184.241894 \r\nL 209.825977 183.06826 \r\nL 216.026368 181.894627 \r\nL 222.226759 180.720993 \r\nL 228.42715 179.54736 \r\nL 234.627541 178.373726 \r\nL 240.827932 177.200093 \r\nL 247.028323 176.02646 \r\nL 253.228714 174.852826 \r\nL 259.429105 173.679193 \r\nL 265.629496 172.505559 \r\nL 271.829887 171.331926 \r\nL 278.030278 170.158292 \r\nL 284.230669 168.984659 \r\nL 290.43106 167.811025 \r\nL 296.631451 166.637392 \r\nL 302.831842 165.463758 \r\nL 309.032233 164.290125 \r\nL 315.232624 163.116491 \r\nL 321.433015 161.942858 \r\nL 327.633406 160.769225 \r\nL 333.833797 159.595591 \r\nL 340.034188 158.421958 \r\nL 346.234579 157.248324 \r\n\" style=\"fill:none;stroke:#ffa500;stroke-linecap:square;stroke-width:1.5;\"/>\r\n   </g>\r\n   <g id=\"line2d_16\">\r\n    <path clip-path=\"url(#p656f7b6e9b)\" d=\"M 42.415421 194.700179 \r\nL 48.615812 194.345165 \r\nL 54.816203 193.990152 \r\nL 61.016594 193.635138 \r\nL 67.216985 193.280124 \r\nL 73.417376 192.925111 \r\nL 79.617767 192.570097 \r\nL 85.818158 192.215083 \r\nL 92.018549 191.86007 \r\nL 98.21894 191.505056 \r\nL 104.419331 191.150042 \r\nL 110.619722 190.795029 \r\nL 116.820113 190.440015 \r\nL 123.020504 190.085001 \r\nL 129.220895 189.729988 \r\nL 135.421286 189.374974 \r\nL 141.621677 189.01996 \r\nL 147.822068 188.664947 \r\nL 154.022459 188.309933 \r\nL 160.22285 187.954919 \r\nL 166.423241 187.599905 \r\nL 172.623632 187.244892 \r\nL 178.824023 186.889878 \r\nL 185.024414 186.534864 \r\nL 191.224805 186.179851 \r\nL 197.425195 185.824837 \r\nL 203.625586 185.469823 \r\nL 209.825977 185.11481 \r\nL 216.026368 184.759796 \r\nL 222.226759 184.404782 \r\nL 228.42715 184.049769 \r\nL 234.627541 183.694755 \r\nL 240.827932 183.339741 \r\nL 247.028323 182.984728 \r\nL 253.228714 182.629714 \r\nL 259.429105 182.2747 \r\nL 265.629496 181.919687 \r\nL 271.829887 181.564673 \r\nL 278.030278 181.209659 \r\nL 284.230669 180.854646 \r\nL 290.43106 180.499632 \r\nL 296.631451 180.144618 \r\nL 302.831842 179.789605 \r\nL 309.032233 179.434591 \r\nL 315.232624 179.079577 \r\nL 321.433015 178.724563 \r\nL 327.633406 178.36955 \r\nL 333.833797 178.014536 \r\nL 340.034188 177.659522 \r\nL 346.234579 177.304509 \r\n\" style=\"fill:none;stroke:#ff0000;stroke-linecap:square;stroke-width:1.5;\"/>\r\n   </g>\r\n   <g id=\"patch_3\">\r\n    <path d=\"M 26.925 224.64 \r\nL 26.925 7.2 \r\n\" style=\"fill:none;stroke:#000000;stroke-linecap:square;stroke-linejoin:miter;stroke-width:0.8;\"/>\r\n   </g>\r\n   <g id=\"patch_4\">\r\n    <path d=\"M 361.725 224.64 \r\nL 361.725 7.2 \r\n\" style=\"fill:none;stroke:#000000;stroke-linecap:square;stroke-linejoin:miter;stroke-width:0.8;\"/>\r\n   </g>\r\n   <g id=\"patch_5\">\r\n    <path d=\"M 26.925 224.64 \r\nL 361.725 224.64 \r\n\" style=\"fill:none;stroke:#000000;stroke-linecap:square;stroke-linejoin:miter;stroke-width:0.8;\"/>\r\n   </g>\r\n   <g id=\"patch_6\">\r\n    <path d=\"M 26.925 7.2 \r\nL 361.725 7.2 \r\n\" style=\"fill:none;stroke:#000000;stroke-linecap:square;stroke-linejoin:miter;stroke-width:0.8;\"/>\r\n   </g>\r\n  </g>\r\n </g>\r\n <defs>\r\n  <clipPath id=\"p656f7b6e9b\">\r\n   <rect height=\"217.44\" width=\"334.8\" x=\"26.925\" y=\"7.2\"/>\r\n  </clipPath>\r\n </defs>\r\n</svg>\r\n",
      "image/png": "[encoded data removed]"
     },
     "metadata": {
      "needs_background": "light"
     }
    }
   ],
   "source": [
    "l2_model = Ridge(alpha=1000, fit_intercept=True)\n",
    "l2_model.fit(X[:, np.newaxis], y)\n",
    "\n",
    "X_plot2 = X\n",
    "y_plot2 = l2_model.predict(X[:, np.newaxis])\n",
    "\n",
    "plt.scatter(X, y)\n",
    "plt.plot(X_plot, y_plot, c='orange')\n",
    "plt.plot(X_plot2, y_plot2, c='red');"
   ]
  },
  {
   "cell_type": "markdown",
   "metadata": {},
   "source": [
    "Ridge regression brought the regression line much closer to what we would expect a well-fitting regression to look like. \n",
    "\n",
    "> **Exercise**\n",
    ">\n",
    "> Rerun the code cell above with different values for the `alpha` parameter in the `Ridge()` function to see how it affects the slope of the red regression line.\n",
    "\n",
    "Now let's see ridge regression in action in our experiment in Azure ML Studio.\n",
    "\n",
    "1. Delete the **Cross Validate Model** module.\n",
    "\n",
    "2. From the left pane, drag new **Train Model** and **Score Model** modules onto the canvas under the **Linear Regression** module.\n",
    "\n",
    "3. Connect the **Linear Regression** output to the upper-left receptor in the **Train Model** module, and connect the lower-left output of the **Split Data** module to the upper-right receptor in the **Train Model** module.\n",
    "\n",
    "4. Connect **Train Model** to the upper-left receptor in the **Score Model** module, and connect the lower-right output in the **Split Data** module to the upper-right receptor in the **Score Model** module.\n",
    "\n",
    "5. Connect **Score Model** to the upper-right receptor in the **Evaluate Model** module.\n",
    "\n",
    "6. Click the **Train Model** module and select the **`lifeExpF`** column in the module's **Properties** pane.\n",
    "\n",
    "7. Click the **Linear Regression** module and enter **`42`** for the random seed. In the **L2 regularization weight** field, enter **`0.1`**.\n",
    "\n",
    "    <img align=\"center\" style=\"padding-right:10px;\" src=\"Images/110.png\" border=\"5\">\n",
    " \n",
    "8. Run the experiment. When all modules have finished running, view the evaluation report.\n",
    " \n",
    "> **Exercise**\n",
    ">\n",
    "> Change the L2 regularization weight on both **Linear Regression** modules to different numbers (such as `0.2` and `0.01`), and compare the new $R^2$ scores to these current ones.\n",
    "\n",
    "> **Question**\n",
    ">\n",
    "> What does this tell you about tuning your models?"
   ]
  },
  {
   "cell_type": "markdown",
   "metadata": {},
   "source": [
    "## Publishing a web service\n",
    "\n",
    "After a model has been fitted and is ready for use, it needs to be accessible. Azure ML Studio provides tools to help automate the process of turning a model into a web service.\n",
    "\n",
    "1. Delete the **Linear Regression**, **Train Model**, and **Score Model** modules that you added to the experiment in subsection above.\n",
    "\n",
    "2. After you have removed those modules, run the experiment once more. (This fits the model for the web service.)\n",
    "\n",
    "3. On the bottom of the screen, click **SET UP WEB SERVICE > Predictive Web Service [Recommended]**.\n",
    "\n",
    "    <img align=\"center\" style=\"padding-right:10px;\" src=\"Images/115.png\" border=\"5\">\n",
    " \n",
    "4. Azure ML Studio will now prune out the modules that are not needed for the predictive web service and will add the **Web service input** and **Web service output** modules. Connect the **Web service input** module to the **Score Model** module.\n",
    "\n",
    "5. From the left column, drag a **Select Columns in Dataset** module and place it between the **Score Model** and **Web service output** modules. Connect the modules together in this order: **Score Model -> Select Columns in Dataset -> Web service output**.\n",
    "\n",
    "    <img align=\"center\" style=\"padding-right:10px;\" src=\"Images/120.png\" border=\"5\">\n",
    "\n",
    "6. In the **Select Columns in Dataset** module between the **Score Model** and **Web service output** modules, select the column **Scored Labels**.\n",
    " \n",
    "7. At the bottom of the window, click **RUN**.\n",
    "\n",
    "8. After the service has completed running, click **DEPLOY WEB SERVICE** at the bottom of the window.\n",
    "\n",
    "    <img align=\"center\" style=\"padding-right:10px;\" src=\"Images/125.png\" border=\"5\">\n",
    " \n",
    "9. Azure ML Studio will automatically open the predictive experiment dashboard on the **Web services** tab. Under **TEST** in the **REQUEST/RESPONSE** row, click **Test**.\n",
    "\n",
    "    <img align=\"center\" style=\"padding-right:10px;\" src=\"Images/131.png\" border=\"5\">\n",
    " \n",
    "10. In the **Enter data to predict** window, enter data values that correspond to the columns in the dataset:\n",
    "   - **REGION** = africa\n",
    "   - **GROUP** = Africa\n",
    "   - **FERTILITY** = 3.52\n",
    "   - **LIFEEXPF** = [Because this is the column to be predicted, it does not matter what you enter here.]\n",
    "   - **PCTURBAN** = 44\n",
    "   - **LOG10(PPGDP)** = 3.8\n",
    " \n",
    "    Azure ML Studio returns `'Simple Linear Regression [Predictive Exp.]' test returned [\"47.5193162607584\"]...`\n",
    "  \n",
    "> **Exercise**\n",
    ">\n",
    "> Now try different values in the test window and see the predictions that come back.\n",
    "\n",
    "> **Takeaway**\n",
    ">\n",
    "> Web-based ML services like Azure ML Studio can speed up ML development and deployment. In particular, the drag-and-drop nature of such tools can make experimenting with different ML algorithms and settings easier. Automated tools can make deploying ML models as a web service -- a vital process in production environments -- much easier."
   ]
  },
  {
   "cell_type": "markdown",
   "metadata": {},
   "source": [
    "## Accessing the web service outside of Azure ML Studio\n",
    "\n",
    "Let’s see what the experience accessing the web service you have created outside of Azure ML Studio can be like.\n",
    "\n",
    "> **Exercise**\n",
    ">\n",
    "> Run `Sec3-2-LinRegression.py` from the command-line interface on your local computer and enter the values of your choice. \n",
    ">\n",
    "> 1.\tTo access the **`URL`** for your web service, on the Azure ML Studio web service dashboard, click **REQUEST/RESPONSE**.\n",
    ">        <img align=\"center\" style=\"padding-right:10px;\" src=\"Images/140.png\" border=\"5\">\n",
    ">\t \n",
    ">    On the **Request Response API Documentation** page for your web service, copy the **Request URI** for the **`POST`** method for your web service.\n",
    ">        <img align=\"center\" style=\"padding-right:10px;\" src=\"Images/145.png\" border=\"5\">\n",
    "> \n",
    "> 2.\tCopy the **`API key`** from your web service’s dashboard in Azure ML Studio.\n",
    ">        <img align=\"center\" style=\"padding-right:10px;\" src=\"Images/150.png\" border=\"5\">\n",
    ">\t \n",
    "> 3.\tValid inputs for the different dependent variables for your web service include:\n",
    ">    - **region:** `Africa`, `Asia`, `Caribbean`, `Europe`, `Latin Amer`, `North America`, `NorthAtlantic`, and `Oceania`\n",
    ">    - **group:** `africa`, `oecd`, and `other`\n",
    ">    - **fertility:** Decimal values between `1` and `7` \n",
    ">    - **gdp:** Decimal values greater than `0` (though the largest value in the model is 105095)\n",
    ">    - **pctUrban:** Integer values between `0` and `100`\n",
    "\n",
    "> **Takeaway**\n",
    ">\n",
    "> Once your ML model is published as a web service, it can be accessed from anywhere on the internet and used in a variety of ways.\n"
   ]
  }
 ],
 "metadata": {
  "kernelspec": {
   "display_name": "Python 3",
   "language": "python",
   "name": "python3"
  },
  "language_info": {
   "codemirror_mode": {
    "name": "ipython",
    "version": 3
   },
   "file_extension": ".py",
   "mimetype": "text/x-python",
   "name": "python",
   "nbconvert_exporter": "python",
   "pygments_lexer": "ipython3",
   "version": "3.7.6-final"
  }
 },
 "nbformat": 4,
 "nbformat_minor": 2
}